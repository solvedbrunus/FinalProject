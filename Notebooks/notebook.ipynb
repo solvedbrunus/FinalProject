{
 "cells": [
  {
   "cell_type": "markdown",
   "metadata": {},
   "source": [
    "# Healthcare AI Agent\n",
    "- #### A Q&A device for querying healthcare-related information"
   ]
  },
  {
   "cell_type": "markdown",
   "metadata": {},
   "source": [
    "This project aims to create a device that can answer healthcare-related questions. The information is based on a database containing healthcare guidelines, medical literature, and other relevant sources."
   ]
  },
  {
   "cell_type": "markdown",
   "metadata": {},
   "source": [
    "### Knowledge Base"
   ]
  },
  {
   "cell_type": "markdown",
   "metadata": {},
   "source": [
    "### Necessary Libraries and dependencies"
   ]
  },
  {
   "cell_type": "markdown",
   "metadata": {},
   "source": [
    "#### Libraries and tools"
   ]
  },
  {
   "cell_type": "code",
   "execution_count": 3,
   "metadata": {},
   "outputs": [],
   "source": [
    "import io\n",
    "import os\n",
    "import re\n",
    "import time\n",
    "import tempfile\n",
    "from dotenv import load_dotenv\n",
    "import requests\n",
    "import numpy as np\n",
    "import pandas as pd\n",
    "from sklearn.metrics.pairwise import cosine_similarity\n",
    "import openai\n",
    "import streamlit as st\n",
    "from streamlit_chat import message\n",
    "from langdetect import detect  # Language detection library\n",
    "import pinecone\n",
    "from PyPDF2 import PdfReader\n",
    "from typing import List, Dict\n",
    "import tabulate\n",
    "import pinecone\n",
    "\n",
    "# Langchain imports\n",
    "from langchain.memory import ConversationBufferMemory\n",
    "from langchain.prompts import ChatPromptTemplate\n",
    "from langchain.chat_models import ChatOpenAI\n",
    "from langchain.agents import initialize_agent, AgentType\n",
    "from langchain.tools import Tool\n",
    "\n",
    "from langchain.agents import initialize_agent, AgentType\n",
    "from langchain_community.chat_models import ChatOpenAI\n",
    "from langchain_experimental.agents import create_pandas_dataframe_agent\n",
    "from langchain_core.tools.base import BaseTool\n",
    "from pydantic import Field\n",
    "from typing import Any\n",
    "\n",
    "from langchain.agents import initialize_agent, AgentType\n",
    "from langchain_community.chat_models import ChatOpenAI\n",
    "from langchain_experimental.agents import create_pandas_dataframe_agent\n",
    "\n",
    "import os\n",
    "from langchain.embeddings.openai import OpenAIEmbeddings\n",
    "\n",
    "\n",
    "from pinecone import Pinecone,ServerlessSpec\n",
    "\n",
    "import time\n",
    "from pinecone import Pinecone\n",
    "\n",
    "import os\n",
    "import re\n",
    "import time\n",
    "import numpy as np\n",
    "from PyPDF2 import PdfReader\n",
    "from langchain.embeddings.openai import OpenAIEmbeddings\n",
    "import pinecone\n",
    "\n",
    "from langchain.chat_models import ChatOpenAI\n",
    "from langchain.chains.conversation.memory import ConversationBufferMemory\n",
    "from langchain.chains import RetrievalQA\n",
    "\n",
    "from langchain.vectorstores import Pinecone\n",
    "\n",
    "from langchain.prompts.chat import MessagesPlaceholder, ChatPromptTemplate\n",
    "from langchain.schema import SystemMessage, HumanMessage\n",
    "\n",
    "from langchain.tools import Tool\n"
   ]
  },
  {
   "cell_type": "markdown",
   "metadata": {},
   "source": [
    "#### API keys and client initiation"
   ]
  },
  {
   "cell_type": "code",
   "execution_count": 4,
   "metadata": {},
   "outputs": [],
   "source": [
    "# Load environment variables\n",
    "load_dotenv()\n",
    "openai.api_key = os.getenv(\"OPENAI_API_KEY\")\n",
    "pinecone.api_key = os.getenv(\"PINECONE_API_KEY\")"
   ]
  },
  {
   "cell_type": "markdown",
   "metadata": {},
   "source": [
    "## Load the DataFrame"
   ]
  },
  {
   "cell_type": "code",
   "execution_count": 5,
   "metadata": {},
   "outputs": [],
   "source": [
    "import pandas as pd\n",
    "csv_file='dataset/healthcare_dataset.csv'\n",
    "#creating the document with Pandas.\n",
    "df = pd.read_csv(csv_file)"
   ]
  },
  {
   "cell_type": "code",
   "execution_count": 6,
   "metadata": {},
   "outputs": [
    {
     "data": {
      "application/vnd.microsoft.datawrangler.viewer.v0+json": {
       "columns": [
        {
         "name": "index",
         "rawType": "int64",
         "type": "integer"
        },
        {
         "name": "Name",
         "rawType": "object",
         "type": "string"
        },
        {
         "name": "Age",
         "rawType": "int64",
         "type": "integer"
        },
        {
         "name": "Gender",
         "rawType": "object",
         "type": "string"
        },
        {
         "name": "Blood Type",
         "rawType": "object",
         "type": "string"
        },
        {
         "name": "Medical Condition",
         "rawType": "object",
         "type": "string"
        },
        {
         "name": "Date of Admission",
         "rawType": "object",
         "type": "string"
        },
        {
         "name": "Doctor",
         "rawType": "object",
         "type": "string"
        },
        {
         "name": "Hospital",
         "rawType": "object",
         "type": "string"
        },
        {
         "name": "Insurance Provider",
         "rawType": "object",
         "type": "string"
        },
        {
         "name": "Billing Amount",
         "rawType": "float64",
         "type": "float"
        },
        {
         "name": "Room Number",
         "rawType": "int64",
         "type": "integer"
        },
        {
         "name": "Admission Type",
         "rawType": "object",
         "type": "string"
        },
        {
         "name": "Discharge Date",
         "rawType": "object",
         "type": "string"
        },
        {
         "name": "Medication",
         "rawType": "object",
         "type": "string"
        },
        {
         "name": "Test Results",
         "rawType": "object",
         "type": "string"
        }
       ],
       "conversionMethod": "pd.DataFrame",
       "ref": "20fd66ea-d095-47fd-9629-09d009b59a10",
       "rows": [
        [
         "0",
         "Bobby JacksOn",
         "30",
         "Male",
         "B-",
         "Cancer",
         "2024-01-31",
         "Matthew Smith",
         "Sons and Miller",
         "Blue Cross",
         "18856.281305978155",
         "328",
         "Urgent",
         "2024-02-02",
         "Paracetamol",
         "Normal"
        ],
        [
         "1",
         "LesLie TErRy",
         "62",
         "Male",
         "A+",
         "Obesity",
         "2019-08-20",
         "Samantha Davies",
         "Kim Inc",
         "Medicare",
         "33643.327286577885",
         "265",
         "Emergency",
         "2019-08-26",
         "Ibuprofen",
         "Inconclusive"
        ],
        [
         "2",
         "DaNnY sMitH",
         "76",
         "Female",
         "A-",
         "Obesity",
         "2022-09-22",
         "Tiffany Mitchell",
         "Cook PLC",
         "Aetna",
         "27955.096078842456",
         "205",
         "Emergency",
         "2022-10-07",
         "Aspirin",
         "Normal"
        ],
        [
         "3",
         "andrEw waTtS",
         "28",
         "Female",
         "O+",
         "Diabetes",
         "2020-11-18",
         "Kevin Wells",
         "Hernandez Rogers and Vang,",
         "Medicare",
         "37909.78240987528",
         "450",
         "Elective",
         "2020-12-18",
         "Ibuprofen",
         "Abnormal"
        ],
        [
         "4",
         "adrIENNE bEll",
         "43",
         "Female",
         "AB+",
         "Cancer",
         "2022-09-19",
         "Kathleen Hanna",
         "White-White",
         "Aetna",
         "14238.317813937623",
         "458",
         "Urgent",
         "2022-10-09",
         "Penicillin",
         "Abnormal"
        ]
       ],
       "shape": {
        "columns": 15,
        "rows": 5
       }
      },
      "text/html": [
       "<div>\n",
       "<style scoped>\n",
       "    .dataframe tbody tr th:only-of-type {\n",
       "        vertical-align: middle;\n",
       "    }\n",
       "\n",
       "    .dataframe tbody tr th {\n",
       "        vertical-align: top;\n",
       "    }\n",
       "\n",
       "    .dataframe thead th {\n",
       "        text-align: right;\n",
       "    }\n",
       "</style>\n",
       "<table border=\"1\" class=\"dataframe\">\n",
       "  <thead>\n",
       "    <tr style=\"text-align: right;\">\n",
       "      <th></th>\n",
       "      <th>Name</th>\n",
       "      <th>Age</th>\n",
       "      <th>Gender</th>\n",
       "      <th>Blood Type</th>\n",
       "      <th>Medical Condition</th>\n",
       "      <th>Date of Admission</th>\n",
       "      <th>Doctor</th>\n",
       "      <th>Hospital</th>\n",
       "      <th>Insurance Provider</th>\n",
       "      <th>Billing Amount</th>\n",
       "      <th>Room Number</th>\n",
       "      <th>Admission Type</th>\n",
       "      <th>Discharge Date</th>\n",
       "      <th>Medication</th>\n",
       "      <th>Test Results</th>\n",
       "    </tr>\n",
       "  </thead>\n",
       "  <tbody>\n",
       "    <tr>\n",
       "      <th>0</th>\n",
       "      <td>Bobby JacksOn</td>\n",
       "      <td>30</td>\n",
       "      <td>Male</td>\n",
       "      <td>B-</td>\n",
       "      <td>Cancer</td>\n",
       "      <td>2024-01-31</td>\n",
       "      <td>Matthew Smith</td>\n",
       "      <td>Sons and Miller</td>\n",
       "      <td>Blue Cross</td>\n",
       "      <td>18856.281306</td>\n",
       "      <td>328</td>\n",
       "      <td>Urgent</td>\n",
       "      <td>2024-02-02</td>\n",
       "      <td>Paracetamol</td>\n",
       "      <td>Normal</td>\n",
       "    </tr>\n",
       "    <tr>\n",
       "      <th>1</th>\n",
       "      <td>LesLie TErRy</td>\n",
       "      <td>62</td>\n",
       "      <td>Male</td>\n",
       "      <td>A+</td>\n",
       "      <td>Obesity</td>\n",
       "      <td>2019-08-20</td>\n",
       "      <td>Samantha Davies</td>\n",
       "      <td>Kim Inc</td>\n",
       "      <td>Medicare</td>\n",
       "      <td>33643.327287</td>\n",
       "      <td>265</td>\n",
       "      <td>Emergency</td>\n",
       "      <td>2019-08-26</td>\n",
       "      <td>Ibuprofen</td>\n",
       "      <td>Inconclusive</td>\n",
       "    </tr>\n",
       "    <tr>\n",
       "      <th>2</th>\n",
       "      <td>DaNnY sMitH</td>\n",
       "      <td>76</td>\n",
       "      <td>Female</td>\n",
       "      <td>A-</td>\n",
       "      <td>Obesity</td>\n",
       "      <td>2022-09-22</td>\n",
       "      <td>Tiffany Mitchell</td>\n",
       "      <td>Cook PLC</td>\n",
       "      <td>Aetna</td>\n",
       "      <td>27955.096079</td>\n",
       "      <td>205</td>\n",
       "      <td>Emergency</td>\n",
       "      <td>2022-10-07</td>\n",
       "      <td>Aspirin</td>\n",
       "      <td>Normal</td>\n",
       "    </tr>\n",
       "    <tr>\n",
       "      <th>3</th>\n",
       "      <td>andrEw waTtS</td>\n",
       "      <td>28</td>\n",
       "      <td>Female</td>\n",
       "      <td>O+</td>\n",
       "      <td>Diabetes</td>\n",
       "      <td>2020-11-18</td>\n",
       "      <td>Kevin Wells</td>\n",
       "      <td>Hernandez Rogers and Vang,</td>\n",
       "      <td>Medicare</td>\n",
       "      <td>37909.782410</td>\n",
       "      <td>450</td>\n",
       "      <td>Elective</td>\n",
       "      <td>2020-12-18</td>\n",
       "      <td>Ibuprofen</td>\n",
       "      <td>Abnormal</td>\n",
       "    </tr>\n",
       "    <tr>\n",
       "      <th>4</th>\n",
       "      <td>adrIENNE bEll</td>\n",
       "      <td>43</td>\n",
       "      <td>Female</td>\n",
       "      <td>AB+</td>\n",
       "      <td>Cancer</td>\n",
       "      <td>2022-09-19</td>\n",
       "      <td>Kathleen Hanna</td>\n",
       "      <td>White-White</td>\n",
       "      <td>Aetna</td>\n",
       "      <td>14238.317814</td>\n",
       "      <td>458</td>\n",
       "      <td>Urgent</td>\n",
       "      <td>2022-10-09</td>\n",
       "      <td>Penicillin</td>\n",
       "      <td>Abnormal</td>\n",
       "    </tr>\n",
       "  </tbody>\n",
       "</table>\n",
       "</div>"
      ],
      "text/plain": [
       "            Name  Age  Gender Blood Type Medical Condition Date of Admission  \\\n",
       "0  Bobby JacksOn   30    Male         B-            Cancer        2024-01-31   \n",
       "1   LesLie TErRy   62    Male         A+           Obesity        2019-08-20   \n",
       "2    DaNnY sMitH   76  Female         A-           Obesity        2022-09-22   \n",
       "3   andrEw waTtS   28  Female         O+          Diabetes        2020-11-18   \n",
       "4  adrIENNE bEll   43  Female        AB+            Cancer        2022-09-19   \n",
       "\n",
       "             Doctor                    Hospital Insurance Provider  \\\n",
       "0     Matthew Smith             Sons and Miller         Blue Cross   \n",
       "1   Samantha Davies                     Kim Inc           Medicare   \n",
       "2  Tiffany Mitchell                    Cook PLC              Aetna   \n",
       "3       Kevin Wells  Hernandez Rogers and Vang,           Medicare   \n",
       "4    Kathleen Hanna                 White-White              Aetna   \n",
       "\n",
       "   Billing Amount  Room Number Admission Type Discharge Date   Medication  \\\n",
       "0    18856.281306          328         Urgent     2024-02-02  Paracetamol   \n",
       "1    33643.327287          265      Emergency     2019-08-26    Ibuprofen   \n",
       "2    27955.096079          205      Emergency     2022-10-07      Aspirin   \n",
       "3    37909.782410          450       Elective     2020-12-18    Ibuprofen   \n",
       "4    14238.317814          458         Urgent     2022-10-09   Penicillin   \n",
       "\n",
       "   Test Results  \n",
       "0        Normal  \n",
       "1  Inconclusive  \n",
       "2        Normal  \n",
       "3      Abnormal  \n",
       "4      Abnormal  "
      ]
     },
     "execution_count": 6,
     "metadata": {},
     "output_type": "execute_result"
    }
   ],
   "source": [
    "df.head()"
   ]
  },
  {
   "cell_type": "code",
   "execution_count": 7,
   "metadata": {},
   "outputs": [
    {
     "data": {
      "text/plain": [
       "Name                  0\n",
       "Age                   0\n",
       "Gender                0\n",
       "Blood Type            0\n",
       "Medical Condition     0\n",
       "Date of Admission     0\n",
       "Doctor                0\n",
       "Hospital              0\n",
       "Insurance Provider    0\n",
       "Billing Amount        0\n",
       "Room Number           0\n",
       "Admission Type        0\n",
       "Discharge Date        0\n",
       "Medication            0\n",
       "Test Results          0\n",
       "dtype: int64"
      ]
     },
     "execution_count": 7,
     "metadata": {},
     "output_type": "execute_result"
    }
   ],
   "source": [
    "df.isnull().sum()"
   ]
  },
  {
   "cell_type": "markdown",
   "metadata": {},
   "source": [
    "## Tools"
   ]
  },
  {
   "cell_type": "code",
   "execution_count": 8,
   "metadata": {},
   "outputs": [],
   "source": [
    "class HealthcareDataFrameTool(BaseTool):\n",
    "    name: str = Field(default=\"Healthcare Data Analysis Tool\")\n",
    "    description: str = Field(default=\"Tool for analyzing healthcare dataset using pandas operations\")\n",
    "    df: pd.DataFrame = Field(description=\"Healthcare dataset as a pandas DataFrame\")\n",
    "    \n",
    "    def _run(self, query: str) -> Any:\n",
    "        \"\"\"Execute pandas operations on the healthcare dataset\"\"\"\n",
    "        try:\n",
    "            # Add common analysis methods\n",
    "            if \"average\" in query.lower() or \"mean\" in query.lower():\n",
    "                if \"billing\" in query.lower():\n",
    "                    return f\"Average billing amount: ${self.df['Billing Amount'].mean():.2f}\"\n",
    "                elif \"age\" in query.lower():\n",
    "                    return f\"Average age: {self.df['Age'].mean():.1f} years\"\n",
    "            \n",
    "            elif \"count\" in query.lower():\n",
    "                if \"patient\" in query.lower():\n",
    "                    return f\"Total number of patients: {len(self.df)}\"\n",
    "                elif \"condition\" in query.lower():\n",
    "                    return self.df['Medical Condition'].value_counts().to_string()\n",
    "            \n",
    "            elif \"search\" in query.lower():\n",
    "                search_term = query.lower().split(\"search\")[-1].strip()\n",
    "                results = self.df[self.df['Name'].str.lower().str.contains(search_term, na=False)]\n",
    "                return f\"Found {len(results)} matching patients:\\n{results[['Name', 'Age', 'Medical Condition']].to_string()}\"\n",
    "            \n",
    "            return \"Could not process the query. Please try rephrasing your question.\"\n",
    "            \n",
    "        except Exception as e:\n",
    "            return f\"Error analyzing data: {str(e)}\""
   ]
  },
  {
   "cell_type": "code",
   "execution_count": 9,
   "metadata": {},
   "outputs": [
    {
     "name": "stderr",
     "output_type": "stream",
     "text": [
      "/var/folders/j7/h2j0t4014sv68q398hrbtssw0000gp/T/ipykernel_44587/1028938435.py:2: LangChainDeprecationWarning: The class `ChatOpenAI` was deprecated in LangChain 0.0.10 and will be removed in 1.0. An updated version of the class exists in the :class:`~langchain-openai package and should be used instead. To use it run `pip install -U :class:`~langchain-openai` and import as `from :class:`~langchain_openai import ChatOpenAI``.\n",
      "  llm = ChatOpenAI(\n",
      "/var/folders/j7/h2j0t4014sv68q398hrbtssw0000gp/T/ipykernel_44587/1028938435.py:10: LangChainDeprecationWarning: Please see the migration guide at: https://python.langchain.com/docs/versions/migrating_memory/\n",
      "  conversational_memory = ConversationBufferMemory(\n"
     ]
    },
    {
     "name": "stderr",
     "output_type": "stream",
     "text": [
      "/opt/anaconda3/envs/finalproject/lib/python3.11/site-packages/langchain_experimental/agents/agent_toolkits/pandas/base.py:283: UserWarning: Received additional kwargs {'tools': [HealthcareDataFrameTool(df=                    Name  Age  Gender Blood Type Medical Condition  \\\n",
      "0          Bobby JacksOn   30    Male         B-            Cancer   \n",
      "1           LesLie TErRy   62    Male         A+           Obesity   \n",
      "2            DaNnY sMitH   76  Female         A-           Obesity   \n",
      "3           andrEw waTtS   28  Female         O+          Diabetes   \n",
      "4          adrIENNE bEll   43  Female        AB+            Cancer   \n",
      "...                  ...  ...     ...        ...               ...   \n",
      "55495  eLIZABeTH jaCkSOn   42  Female         O+            Asthma   \n",
      "55496         KYle pEREz   61  Female        AB-           Obesity   \n",
      "55497       HEATher WaNG   38  Female         B+      Hypertension   \n",
      "55498     JENniFER JOneS   43    Male         O-         Arthritis   \n",
      "55499       jAMES GARCiA   53  Female         O+         Arthritis   \n",
      "\n",
      "      Date of Admission            Doctor                      Hospital  \\\n",
      "0            2024-01-31     Matthew Smith               Sons and Miller   \n",
      "1            2019-08-20   Samantha Davies                       Kim Inc   \n",
      "2            2022-09-22  Tiffany Mitchell                      Cook PLC   \n",
      "3            2020-11-18       Kevin Wells    Hernandez Rogers and Vang,   \n",
      "4            2022-09-19    Kathleen Hanna                   White-White   \n",
      "...                 ...               ...                           ...   \n",
      "55495        2020-08-16     Joshua Jarvis                Jones-Thompson   \n",
      "55496        2020-01-23   Taylor Sullivan                  Tucker-Moyer   \n",
      "55497        2020-07-13    Joe Jacobs DVM  and Mahoney Johnson Vasquez,   \n",
      "55498        2019-05-25    Kimberly Curry      Jackson Todd and Castro,   \n",
      "55499        2024-04-02     Dennis Warren                Henry Sons and   \n",
      "\n",
      "      Insurance Provider  Billing Amount  Room Number Admission Type  \\\n",
      "0             Blue Cross    18856.281306          328         Urgent   \n",
      "1               Medicare    33643.327287          265      Emergency   \n",
      "2                  Aetna    27955.096079          205      Emergency   \n",
      "3               Medicare    37909.782410          450       Elective   \n",
      "4                  Aetna    14238.317814          458         Urgent   \n",
      "...                  ...             ...          ...            ...   \n",
      "55495         Blue Cross     2650.714952          417       Elective   \n",
      "55496              Cigna    31457.797307          316       Elective   \n",
      "55497   UnitedHealthcare    27620.764717          347         Urgent   \n",
      "55498           Medicare    32451.092358          321       Elective   \n",
      "55499              Aetna     4010.134172          448         Urgent   \n",
      "\n",
      "      Discharge Date   Medication  Test Results  \n",
      "0         2024-02-02  Paracetamol        Normal  \n",
      "1         2019-08-26    Ibuprofen  Inconclusive  \n",
      "2         2022-10-07      Aspirin        Normal  \n",
      "3         2020-12-18    Ibuprofen      Abnormal  \n",
      "4         2022-10-09   Penicillin      Abnormal  \n",
      "...              ...          ...           ...  \n",
      "55495     2020-09-15   Penicillin      Abnormal  \n",
      "55496     2020-02-01      Aspirin        Normal  \n",
      "55497     2020-08-10    Ibuprofen      Abnormal  \n",
      "55498     2019-05-31    Ibuprofen      Abnormal  \n",
      "55499     2024-04-29    Ibuprofen      Abnormal  \n",
      "\n",
      "[55500 rows x 15 columns])], 'handle_parsing_errors': True} which are no longer supported.\n",
      "  warnings.warn(\n",
      "/var/folders/j7/h2j0t4014sv68q398hrbtssw0000gp/T/ipykernel_44587/1028938435.py:33: LangChainDeprecationWarning: The method `Chain.run` was deprecated in langchain 0.1.0 and will be removed in 1.0. Use :meth:`~invoke` instead.\n",
      "  response = agent_test.run(question)\n"
     ]
    },
    {
     "name": "stdout",
     "output_type": "stream",
     "text": [
      "\n",
      "\n",
      "\u001b[1m> Entering new AgentExecutor chain...\u001b[0m\n",
      "\u001b[32;1m\u001b[1;3m\n",
      "Invoking: `python_repl_ast` with `{'query': \"df['Billing Amount'].mean()\"}`\n",
      "\n",
      "\n",
      "\u001b[0m\u001b[36;1m\u001b[1;3m25539.316097211795\u001b[0m\u001b[32;1m\u001b[1;3mThe average billing amount is approximately 25,539.32.\u001b[0m\n",
      "\n",
      "\u001b[1m> Finished chain.\u001b[0m\n",
      "The average billing amount is approximately 25,539.32.\n",
      "\n",
      "\n",
      "\u001b[1m> Entering new AgentExecutor chain...\u001b[0m\n",
      "\u001b[32;1m\u001b[1;3m\n",
      "Invoking: `python_repl_ast` with `{'query': \"cancer_patients_count = df[df['Medical Condition'] == 'Cancer'].shape[0]\\ncancer_patients_count\"}`\n",
      "\n",
      "\n",
      "\u001b[0m\u001b[36;1m\u001b[1;3m9227\u001b[0m\u001b[32;1m\u001b[1;3mThere are 9,227 patients with cancer in the dataset.\u001b[0m\n",
      "\n",
      "\u001b[1m> Finished chain.\u001b[0m\n",
      "There are 9,227 patients with cancer in the dataset.\n"
     ]
    }
   ],
   "source": [
    "\n",
    "# Initialize the LLM\n",
    "llm = ChatOpenAI(\n",
    "    model=\"gpt-4o\",\n",
    "    temperature=0.2,  # Lower temperature for more focused responses\n",
    "    openai_api_key=os.getenv(\"OPENAI_API_KEY\")\n",
    ")\n",
    "\n",
    "# Create conversation memory\n",
    "from langchain.memory import ConversationBufferMemory\n",
    "conversational_memory = ConversationBufferMemory(\n",
    "    memory_key=\"chat_history\",\n",
    "    return_messages=True\n",
    ")\n",
    "\n",
    "# Create a healthcare data tool instance\n",
    "healthcare_tool = HealthcareDataFrameTool(df=df)\n",
    "\n",
    "# Initialize agent with tools\n",
    "agent_test = create_pandas_dataframe_agent(\n",
    "    llm=llm,\n",
    "    df = df,\n",
    "    tools=[healthcare_tool],\n",
    "    verbose=True,\n",
    "    agent_type=AgentType.OPENAI_FUNCTIONS,\n",
    "    handle_parsing_errors=True,\n",
    "    max_iterations=3,\n",
    "    allow_dangerous_code=True,  # Opt-in to allow dangerous code execution\n",
    ")\n",
    "\n",
    "# Example usage function\n",
    "def query_healthcare_data(question: str) -> str:\n",
    "    try:\n",
    "        response = agent_test.run(question)\n",
    "        return response\n",
    "    except Exception as e:\n",
    "        return f\"Error processing question: {str(e)}\"\n",
    "\n",
    "# Test the improved agent\n",
    "print(query_healthcare_data(\"What is the average billing amount?\"))\n",
    "print(query_healthcare_data(\"How many patients are there with cancer?\"))"
   ]
  },
  {
   "cell_type": "code",
   "execution_count": 10,
   "metadata": {},
   "outputs": [
    {
     "name": "stdout",
     "output_type": "stream",
     "text": [
      "Available columns: ['Name', 'Age', 'Gender', 'Blood Type', 'Medical Condition', 'Date of Admission', 'Doctor', 'Hospital', 'Insurance Provider', 'Billing Amount', 'Room Number', 'Admission Type', 'Discharge Date', 'Medication', 'Test Results']\n",
      "\n",
      "Sample data:\n",
      "            Name  Age  Gender Blood Type Medical Condition Date of Admission  \\\n",
      "0  Bobby JacksOn   30    Male         B-            Cancer        2024-01-31   \n",
      "1   LesLie TErRy   62    Male         A+           Obesity        2019-08-20   \n",
      "2    DaNnY sMitH   76  Female         A-           Obesity        2022-09-22   \n",
      "3   andrEw waTtS   28  Female         O+          Diabetes        2020-11-18   \n",
      "4  adrIENNE bEll   43  Female        AB+            Cancer        2022-09-19   \n",
      "\n",
      "             Doctor                    Hospital Insurance Provider  \\\n",
      "0     Matthew Smith             Sons and Miller         Blue Cross   \n",
      "1   Samantha Davies                     Kim Inc           Medicare   \n",
      "2  Tiffany Mitchell                    Cook PLC              Aetna   \n",
      "3       Kevin Wells  Hernandez Rogers and Vang,           Medicare   \n",
      "4    Kathleen Hanna                 White-White              Aetna   \n",
      "\n",
      "   Billing Amount  Room Number Admission Type Discharge Date   Medication  \\\n",
      "0    18856.281306          328         Urgent     2024-02-02  Paracetamol   \n",
      "1    33643.327287          265      Emergency     2019-08-26    Ibuprofen   \n",
      "2    27955.096079          205      Emergency     2022-10-07      Aspirin   \n",
      "3    37909.782410          450       Elective     2020-12-18    Ibuprofen   \n",
      "4    14238.317814          458         Urgent     2022-10-09   Penicillin   \n",
      "\n",
      "   Test Results  \n",
      "0        Normal  \n",
      "1  Inconclusive  \n",
      "2        Normal  \n",
      "3      Abnormal  \n",
      "4      Abnormal  \n"
     ]
    }
   ],
   "source": [
    "print(\"Available columns:\", df.columns.tolist())\n",
    "print(\"\\nSample data:\")\n",
    "print(df.head())"
   ]
  },
  {
   "cell_type": "code",
   "execution_count": 11,
   "metadata": {},
   "outputs": [
    {
     "name": "stdout",
     "output_type": "stream",
     "text": [
      "\n",
      "\n",
      "\u001b[1m> Entering new AgentExecutor chain...\u001b[0m\n",
      "\u001b[32;1m\u001b[1;3m\n",
      "Invoking: `python_repl_ast` with `{'query': \"john_count = df['Name'].str.lower().str.contains('john').sum()\\njohn_count\"}`\n",
      "\n",
      "\n",
      "\u001b[0m\u001b[36;1m\u001b[1;3m1823\u001b[0m\u001b[32;1m\u001b[1;3mThere are 1,823 patients with the name \"John\" in the dataframe.\u001b[0m\n",
      "\n",
      "\u001b[1m> Finished chain.\u001b[0m\n",
      "There are 1,823 patients with the name \"John\" in the dataframe.\n"
     ]
    }
   ],
   "source": [
    "try:\n",
    "    response = agent_test.invoke({\n",
    "        \"input\": \"how many patients name john?\"\n",
    "    })\n",
    "    print(response[\"output\"])\n",
    "except Exception as e:\n",
    "    print(f\"Error executing query: {str(e)}\")"
   ]
  },
  {
   "cell_type": "code",
   "execution_count": 12,
   "metadata": {},
   "outputs": [
    {
     "name": "stdout",
     "output_type": "stream",
     "text": [
      "\n",
      "\n",
      "\u001b[1m> Entering new AgentExecutor chain...\u001b[0m\n",
      "\u001b[32;1m\u001b[1;3m\n",
      "Invoking: `python_repl_ast` with `{'query': \"df.groupby('Medical Condition')['Billing Amount'].mean()\"}`\n",
      "responded: To predict the average billing amount based on the medical condition, we can group the data by the \"Medical Condition\" column and then calculate the average of the \"Billing Amount\" for each group. Let's do that.\n",
      "\n",
      "\u001b[0m\u001b[36;1m\u001b[1;3mMedical Condition\n",
      "Arthritis       25497.327056\n",
      "Asthma          25635.249359\n",
      "Cancer          25161.792707\n",
      "Diabetes        25638.405577\n",
      "Hypertension    25497.095761\n",
      "Obesity         25805.971259\n",
      "Name: Billing Amount, dtype: float64\u001b[0m\u001b[32;1m\u001b[1;3mThe average billing amount based on the medical condition is as follows:\n",
      "\n",
      "- Arthritis: $25,497.33\n",
      "- Asthma: $25,635.25\n",
      "- Cancer: $25,161.79\n",
      "- Diabetes: $25,638.41\n",
      "- Hypertension: $25,497.10\n",
      "- Obesity: $25,805.97\u001b[0m\n",
      "\n",
      "\u001b[1m> Finished chain.\u001b[0m\n",
      "The average billing amount based on the medical condition is as follows:\n",
      "\n",
      "- Arthritis: $25,497.33\n",
      "- Asthma: $25,635.25\n",
      "- Cancer: $25,161.79\n",
      "- Diabetes: $25,638.41\n",
      "- Hypertension: $25,497.10\n",
      "- Obesity: $25,805.97\n"
     ]
    }
   ],
   "source": [
    "response = agent_test.invoke({\"input\": \"Can you tell a prediction based on the condition what is the average  billing amount?\"})\n",
    "print(response[\"output\"])"
   ]
  },
  {
   "cell_type": "markdown",
   "metadata": {},
   "source": [
    "## Initialize the Embedding Model and Vector DB "
   ]
  },
  {
   "cell_type": "code",
   "execution_count": 13,
   "metadata": {},
   "outputs": [
    {
     "name": "stderr",
     "output_type": "stream",
     "text": [
      "/var/folders/j7/h2j0t4014sv68q398hrbtssw0000gp/T/ipykernel_44587/2431784524.py:3: LangChainDeprecationWarning: The class `OpenAIEmbeddings` was deprecated in LangChain 0.0.9 and will be removed in 1.0. An updated version of the class exists in the :class:`~langchain-openai package and should be used instead. To use it run `pip install -U :class:`~langchain-openai` and import as `from :class:`~langchain_openai import OpenAIEmbeddings``.\n",
      "  embed = OpenAIEmbeddings(\n"
     ]
    }
   ],
   "source": [
    "model_name = 'text-embedding-ada-002'\n",
    "\n",
    "embed = OpenAIEmbeddings(\n",
    "    model=model_name,\n",
    "    openai_api_key=os.getenv(\"OPENAI_API_KEY\")\n",
    ")"
   ]
  },
  {
   "cell_type": "code",
   "execution_count": 15,
   "metadata": {},
   "outputs": [],
   "source": [
    "from pinecone import Pinecone,ServerlessSpec\n",
    "\n",
    "pinecone = Pinecone(api_key=os.getenv(\"PINECONE_API_KEY\"))\n",
    "\n",
    "spec=ServerlessSpec(\n",
    "    cloud=\"aws\",region='us-east-1'\n",
    ")"
   ]
  },
  {
   "cell_type": "code",
   "execution_count": 16,
   "metadata": {},
   "outputs": [
    {
     "ename": "PineconeApiException",
     "evalue": "(409)\nReason: Conflict\nHTTP response headers: HTTPHeaderDict({'content-type': 'text/plain; charset=utf-8', 'access-control-allow-origin': '*', 'vary': 'origin,access-control-request-method,access-control-request-headers', 'access-control-expose-headers': '*', 'x-pinecone-api-version': '2024-07', 'X-Cloud-Trace-Context': 'd45cacb8e8a69b9f0cddce824527b164', 'Date': 'Sat, 15 Feb 2025 13:46:46 GMT', 'Server': 'Google Frontend', 'Content-Length': '85', 'Via': '1.1 google', 'Alt-Svc': 'h3=\":443\"; ma=2592000,h3-29=\":443\"; ma=2592000'})\nHTTP response body: {\"error\":{\"code\":\"ALREADY_EXISTS\",\"message\":\"Resource  already exists\"},\"status\":409}\n",
     "output_type": "error",
     "traceback": [
      "\u001b[0;31m---------------------------------------------------------------------------\u001b[0m",
      "\u001b[0;31mPineconeApiException\u001b[0m                      Traceback (most recent call last)",
      "Cell \u001b[0;32mIn[16], line 9\u001b[0m\n\u001b[1;32m      6\u001b[0m existing_indexes \u001b[38;5;241m=\u001b[39m pc\u001b[38;5;241m.\u001b[39mlist_indexes()\n\u001b[1;32m      8\u001b[0m \u001b[38;5;28;01mif\u001b[39;00m index_name \u001b[38;5;129;01mnot\u001b[39;00m \u001b[38;5;129;01min\u001b[39;00m existing_indexes:\n\u001b[0;32m----> 9\u001b[0m     \u001b[43mpc\u001b[49m\u001b[38;5;241;43m.\u001b[39;49m\u001b[43mcreate_index\u001b[49m\u001b[43m(\u001b[49m\n\u001b[1;32m     10\u001b[0m \u001b[43m        \u001b[49m\u001b[43mname\u001b[49m\u001b[38;5;241;43m=\u001b[39;49m\u001b[43mindex_name\u001b[49m\u001b[43m,\u001b[49m\n\u001b[1;32m     11\u001b[0m \u001b[43m        \u001b[49m\u001b[43mdimension\u001b[49m\u001b[38;5;241;43m=\u001b[39;49m\u001b[38;5;241;43m1536\u001b[39;49m\u001b[43m,\u001b[49m\n\u001b[1;32m     12\u001b[0m \u001b[43m        \u001b[49m\u001b[43mmetric\u001b[49m\u001b[38;5;241;43m=\u001b[39;49m\u001b[38;5;124;43m\"\u001b[39;49m\u001b[38;5;124;43mcosine\u001b[39;49m\u001b[38;5;124;43m\"\u001b[39;49m\u001b[43m,\u001b[49m\n\u001b[1;32m     13\u001b[0m \u001b[43m        \u001b[49m\u001b[43mspec\u001b[49m\u001b[38;5;241;43m=\u001b[39;49m\u001b[43mspec\u001b[49m\n\u001b[1;32m     14\u001b[0m \u001b[43m    \u001b[49m\u001b[43m)\u001b[49m\n\u001b[1;32m     15\u001b[0m     \u001b[38;5;66;03m# Wait for the index to be created\u001b[39;00m\n\u001b[1;32m     16\u001b[0m     \u001b[38;5;28;01mwhile\u001b[39;00m \u001b[38;5;129;01mnot\u001b[39;00m pc\u001b[38;5;241m.\u001b[39mdescribe_index(index_name)\u001b[38;5;241m.\u001b[39mstatus[\u001b[38;5;124m'\u001b[39m\u001b[38;5;124mready\u001b[39m\u001b[38;5;124m'\u001b[39m]:\n",
      "File \u001b[0;32m/opt/anaconda3/envs/finalproject/lib/python3.11/site-packages/pinecone/control/pinecone.py:384\u001b[0m, in \u001b[0;36mPinecone.create_index\u001b[0;34m(self, name, dimension, spec, metric, timeout, deletion_protection)\u001b[0m\n\u001b[1;32m    381\u001b[0m \u001b[38;5;28;01melse\u001b[39;00m:\n\u001b[1;32m    382\u001b[0m     \u001b[38;5;28;01mraise\u001b[39;00m \u001b[38;5;167;01mTypeError\u001b[39;00m(\u001b[38;5;124m\"\u001b[39m\u001b[38;5;124mspec must be of type dict, ServerlessSpec, or PodSpec\u001b[39m\u001b[38;5;124m\"\u001b[39m)\n\u001b[0;32m--> 384\u001b[0m \u001b[43mapi_instance\u001b[49m\u001b[38;5;241;43m.\u001b[39;49m\u001b[43mcreate_index\u001b[49m\u001b[43m(\u001b[49m\n\u001b[1;32m    385\u001b[0m \u001b[43m    \u001b[49m\u001b[43mcreate_index_request\u001b[49m\u001b[38;5;241;43m=\u001b[39;49m\u001b[43mCreateIndexRequest\u001b[49m\u001b[43m(\u001b[49m\n\u001b[1;32m    386\u001b[0m \u001b[43m        \u001b[49m\u001b[43mname\u001b[49m\u001b[38;5;241;43m=\u001b[39;49m\u001b[43mname\u001b[49m\u001b[43m,\u001b[49m\n\u001b[1;32m    387\u001b[0m \u001b[43m        \u001b[49m\u001b[43mdimension\u001b[49m\u001b[38;5;241;43m=\u001b[39;49m\u001b[43mdimension\u001b[49m\u001b[43m,\u001b[49m\n\u001b[1;32m    388\u001b[0m \u001b[43m        \u001b[49m\u001b[43mmetric\u001b[49m\u001b[38;5;241;43m=\u001b[39;49m\u001b[43mmetric\u001b[49m\u001b[43m,\u001b[49m\n\u001b[1;32m    389\u001b[0m \u001b[43m        \u001b[49m\u001b[43mspec\u001b[49m\u001b[38;5;241;43m=\u001b[39;49m\u001b[43mindex_spec\u001b[49m\u001b[43m,\u001b[49m\n\u001b[1;32m    390\u001b[0m \u001b[43m        \u001b[49m\u001b[43mdeletion_protection\u001b[49m\u001b[38;5;241;43m=\u001b[39;49m\u001b[43mdp\u001b[49m\u001b[43m,\u001b[49m\n\u001b[1;32m    391\u001b[0m \u001b[43m    \u001b[49m\u001b[43m)\u001b[49m\u001b[43m,\u001b[49m\n\u001b[1;32m    392\u001b[0m \u001b[43m\u001b[49m\u001b[43m)\u001b[49m\n\u001b[1;32m    394\u001b[0m \u001b[38;5;28;01mdef\u001b[39;00m\u001b[38;5;250m \u001b[39m\u001b[38;5;21mis_ready\u001b[39m():\n\u001b[1;32m    395\u001b[0m     status \u001b[38;5;241m=\u001b[39m \u001b[38;5;28mself\u001b[39m\u001b[38;5;241m.\u001b[39m_get_status(name)\n",
      "File \u001b[0;32m/opt/anaconda3/envs/finalproject/lib/python3.11/site-packages/pinecone/core/openapi/shared/api_client.py:761\u001b[0m, in \u001b[0;36mEndpoint.__call__\u001b[0;34m(self, *args, **kwargs)\u001b[0m\n\u001b[1;32m    750\u001b[0m \u001b[38;5;28;01mdef\u001b[39;00m\u001b[38;5;250m \u001b[39m\u001b[38;5;21m__call__\u001b[39m(\u001b[38;5;28mself\u001b[39m, \u001b[38;5;241m*\u001b[39margs, \u001b[38;5;241m*\u001b[39m\u001b[38;5;241m*\u001b[39mkwargs):\n\u001b[1;32m    751\u001b[0m \u001b[38;5;250m    \u001b[39m\u001b[38;5;124;03m\"\"\"This method is invoked when endpoints are called\u001b[39;00m\n\u001b[1;32m    752\u001b[0m \u001b[38;5;124;03m    Example:\u001b[39;00m\n\u001b[1;32m    753\u001b[0m \n\u001b[0;32m   (...)\u001b[0m\n\u001b[1;32m    759\u001b[0m \n\u001b[1;32m    760\u001b[0m \u001b[38;5;124;03m    \"\"\"\u001b[39;00m\n\u001b[0;32m--> 761\u001b[0m     \u001b[38;5;28;01mreturn\u001b[39;00m \u001b[38;5;28;43mself\u001b[39;49m\u001b[38;5;241;43m.\u001b[39;49m\u001b[43mcallable\u001b[49m\u001b[43m(\u001b[49m\u001b[38;5;28;43mself\u001b[39;49m\u001b[43m,\u001b[49m\u001b[43m \u001b[49m\u001b[38;5;241;43m*\u001b[39;49m\u001b[43margs\u001b[49m\u001b[43m,\u001b[49m\u001b[43m \u001b[49m\u001b[38;5;241;43m*\u001b[39;49m\u001b[38;5;241;43m*\u001b[39;49m\u001b[43mkwargs\u001b[49m\u001b[43m)\u001b[49m\n",
      "File \u001b[0;32m/opt/anaconda3/envs/finalproject/lib/python3.11/site-packages/pinecone/core/openapi/control/api/manage_indexes_api.py:273\u001b[0m, in \u001b[0;36mManageIndexesApi.__init__.<locals>.__create_index\u001b[0;34m(self, create_index_request, **kwargs)\u001b[0m\n\u001b[1;32m    271\u001b[0m kwargs[\u001b[38;5;124m\"\u001b[39m\u001b[38;5;124m_host_index\u001b[39m\u001b[38;5;124m\"\u001b[39m] \u001b[38;5;241m=\u001b[39m kwargs\u001b[38;5;241m.\u001b[39mget(\u001b[38;5;124m\"\u001b[39m\u001b[38;5;124m_host_index\u001b[39m\u001b[38;5;124m\"\u001b[39m)\n\u001b[1;32m    272\u001b[0m kwargs[\u001b[38;5;124m\"\u001b[39m\u001b[38;5;124mcreate_index_request\u001b[39m\u001b[38;5;124m\"\u001b[39m] \u001b[38;5;241m=\u001b[39m create_index_request\n\u001b[0;32m--> 273\u001b[0m \u001b[38;5;28;01mreturn\u001b[39;00m \u001b[38;5;28;43mself\u001b[39;49m\u001b[38;5;241;43m.\u001b[39;49m\u001b[43mcall_with_http_info\u001b[49m\u001b[43m(\u001b[49m\u001b[38;5;241;43m*\u001b[39;49m\u001b[38;5;241;43m*\u001b[39;49m\u001b[43mkwargs\u001b[49m\u001b[43m)\u001b[49m\n",
      "File \u001b[0;32m/opt/anaconda3/envs/finalproject/lib/python3.11/site-packages/pinecone/core/openapi/shared/api_client.py:819\u001b[0m, in \u001b[0;36mEndpoint.call_with_http_info\u001b[0;34m(self, **kwargs)\u001b[0m\n\u001b[1;32m    816\u001b[0m     header_list \u001b[38;5;241m=\u001b[39m \u001b[38;5;28mself\u001b[39m\u001b[38;5;241m.\u001b[39mapi_client\u001b[38;5;241m.\u001b[39mselect_header_content_type(content_type_headers_list)\n\u001b[1;32m    817\u001b[0m     params[\u001b[38;5;124m\"\u001b[39m\u001b[38;5;124mheader\u001b[39m\u001b[38;5;124m\"\u001b[39m][\u001b[38;5;124m\"\u001b[39m\u001b[38;5;124mContent-Type\u001b[39m\u001b[38;5;124m\"\u001b[39m] \u001b[38;5;241m=\u001b[39m header_list\n\u001b[0;32m--> 819\u001b[0m \u001b[38;5;28;01mreturn\u001b[39;00m \u001b[38;5;28;43mself\u001b[39;49m\u001b[38;5;241;43m.\u001b[39;49m\u001b[43mapi_client\u001b[49m\u001b[38;5;241;43m.\u001b[39;49m\u001b[43mcall_api\u001b[49m\u001b[43m(\u001b[49m\n\u001b[1;32m    820\u001b[0m \u001b[43m    \u001b[49m\u001b[38;5;28;43mself\u001b[39;49m\u001b[38;5;241;43m.\u001b[39;49m\u001b[43msettings\u001b[49m\u001b[43m[\u001b[49m\u001b[38;5;124;43m\"\u001b[39;49m\u001b[38;5;124;43mendpoint_path\u001b[39;49m\u001b[38;5;124;43m\"\u001b[39;49m\u001b[43m]\u001b[49m\u001b[43m,\u001b[49m\n\u001b[1;32m    821\u001b[0m \u001b[43m    \u001b[49m\u001b[38;5;28;43mself\u001b[39;49m\u001b[38;5;241;43m.\u001b[39;49m\u001b[43msettings\u001b[49m\u001b[43m[\u001b[49m\u001b[38;5;124;43m\"\u001b[39;49m\u001b[38;5;124;43mhttp_method\u001b[39;49m\u001b[38;5;124;43m\"\u001b[39;49m\u001b[43m]\u001b[49m\u001b[43m,\u001b[49m\n\u001b[1;32m    822\u001b[0m \u001b[43m    \u001b[49m\u001b[43mparams\u001b[49m\u001b[43m[\u001b[49m\u001b[38;5;124;43m\"\u001b[39;49m\u001b[38;5;124;43mpath\u001b[39;49m\u001b[38;5;124;43m\"\u001b[39;49m\u001b[43m]\u001b[49m\u001b[43m,\u001b[49m\n\u001b[1;32m    823\u001b[0m \u001b[43m    \u001b[49m\u001b[43mparams\u001b[49m\u001b[43m[\u001b[49m\u001b[38;5;124;43m\"\u001b[39;49m\u001b[38;5;124;43mquery\u001b[39;49m\u001b[38;5;124;43m\"\u001b[39;49m\u001b[43m]\u001b[49m\u001b[43m,\u001b[49m\n\u001b[1;32m    824\u001b[0m \u001b[43m    \u001b[49m\u001b[43mparams\u001b[49m\u001b[43m[\u001b[49m\u001b[38;5;124;43m\"\u001b[39;49m\u001b[38;5;124;43mheader\u001b[39;49m\u001b[38;5;124;43m\"\u001b[39;49m\u001b[43m]\u001b[49m\u001b[43m,\u001b[49m\n\u001b[1;32m    825\u001b[0m \u001b[43m    \u001b[49m\u001b[43mbody\u001b[49m\u001b[38;5;241;43m=\u001b[39;49m\u001b[43mparams\u001b[49m\u001b[43m[\u001b[49m\u001b[38;5;124;43m\"\u001b[39;49m\u001b[38;5;124;43mbody\u001b[39;49m\u001b[38;5;124;43m\"\u001b[39;49m\u001b[43m]\u001b[49m\u001b[43m,\u001b[49m\n\u001b[1;32m    826\u001b[0m \u001b[43m    \u001b[49m\u001b[43mpost_params\u001b[49m\u001b[38;5;241;43m=\u001b[39;49m\u001b[43mparams\u001b[49m\u001b[43m[\u001b[49m\u001b[38;5;124;43m\"\u001b[39;49m\u001b[38;5;124;43mform\u001b[39;49m\u001b[38;5;124;43m\"\u001b[39;49m\u001b[43m]\u001b[49m\u001b[43m,\u001b[49m\n\u001b[1;32m    827\u001b[0m \u001b[43m    \u001b[49m\u001b[43mfiles\u001b[49m\u001b[38;5;241;43m=\u001b[39;49m\u001b[43mparams\u001b[49m\u001b[43m[\u001b[49m\u001b[38;5;124;43m\"\u001b[39;49m\u001b[38;5;124;43mfile\u001b[39;49m\u001b[38;5;124;43m\"\u001b[39;49m\u001b[43m]\u001b[49m\u001b[43m,\u001b[49m\n\u001b[1;32m    828\u001b[0m \u001b[43m    \u001b[49m\u001b[43mresponse_type\u001b[49m\u001b[38;5;241;43m=\u001b[39;49m\u001b[38;5;28;43mself\u001b[39;49m\u001b[38;5;241;43m.\u001b[39;49m\u001b[43msettings\u001b[49m\u001b[43m[\u001b[49m\u001b[38;5;124;43m\"\u001b[39;49m\u001b[38;5;124;43mresponse_type\u001b[39;49m\u001b[38;5;124;43m\"\u001b[39;49m\u001b[43m]\u001b[49m\u001b[43m,\u001b[49m\n\u001b[1;32m    829\u001b[0m \u001b[43m    \u001b[49m\u001b[43mauth_settings\u001b[49m\u001b[38;5;241;43m=\u001b[39;49m\u001b[38;5;28;43mself\u001b[39;49m\u001b[38;5;241;43m.\u001b[39;49m\u001b[43msettings\u001b[49m\u001b[43m[\u001b[49m\u001b[38;5;124;43m\"\u001b[39;49m\u001b[38;5;124;43mauth\u001b[39;49m\u001b[38;5;124;43m\"\u001b[39;49m\u001b[43m]\u001b[49m\u001b[43m,\u001b[49m\n\u001b[1;32m    830\u001b[0m \u001b[43m    \u001b[49m\u001b[43masync_req\u001b[49m\u001b[38;5;241;43m=\u001b[39;49m\u001b[43mkwargs\u001b[49m\u001b[43m[\u001b[49m\u001b[38;5;124;43m\"\u001b[39;49m\u001b[38;5;124;43masync_req\u001b[39;49m\u001b[38;5;124;43m\"\u001b[39;49m\u001b[43m]\u001b[49m\u001b[43m,\u001b[49m\n\u001b[1;32m    831\u001b[0m \u001b[43m    \u001b[49m\u001b[43m_check_type\u001b[49m\u001b[38;5;241;43m=\u001b[39;49m\u001b[43mkwargs\u001b[49m\u001b[43m[\u001b[49m\u001b[38;5;124;43m\"\u001b[39;49m\u001b[38;5;124;43m_check_return_type\u001b[39;49m\u001b[38;5;124;43m\"\u001b[39;49m\u001b[43m]\u001b[49m\u001b[43m,\u001b[49m\n\u001b[1;32m    832\u001b[0m \u001b[43m    \u001b[49m\u001b[43m_return_http_data_only\u001b[49m\u001b[38;5;241;43m=\u001b[39;49m\u001b[43mkwargs\u001b[49m\u001b[43m[\u001b[49m\u001b[38;5;124;43m\"\u001b[39;49m\u001b[38;5;124;43m_return_http_data_only\u001b[39;49m\u001b[38;5;124;43m\"\u001b[39;49m\u001b[43m]\u001b[49m\u001b[43m,\u001b[49m\n\u001b[1;32m    833\u001b[0m \u001b[43m    \u001b[49m\u001b[43m_preload_content\u001b[49m\u001b[38;5;241;43m=\u001b[39;49m\u001b[43mkwargs\u001b[49m\u001b[43m[\u001b[49m\u001b[38;5;124;43m\"\u001b[39;49m\u001b[38;5;124;43m_preload_content\u001b[39;49m\u001b[38;5;124;43m\"\u001b[39;49m\u001b[43m]\u001b[49m\u001b[43m,\u001b[49m\n\u001b[1;32m    834\u001b[0m \u001b[43m    \u001b[49m\u001b[43m_request_timeout\u001b[49m\u001b[38;5;241;43m=\u001b[39;49m\u001b[43mkwargs\u001b[49m\u001b[43m[\u001b[49m\u001b[38;5;124;43m\"\u001b[39;49m\u001b[38;5;124;43m_request_timeout\u001b[39;49m\u001b[38;5;124;43m\"\u001b[39;49m\u001b[43m]\u001b[49m\u001b[43m,\u001b[49m\n\u001b[1;32m    835\u001b[0m \u001b[43m    \u001b[49m\u001b[43m_host\u001b[49m\u001b[38;5;241;43m=\u001b[39;49m\u001b[43m_host\u001b[49m\u001b[43m,\u001b[49m\n\u001b[1;32m    836\u001b[0m \u001b[43m    \u001b[49m\u001b[43mcollection_formats\u001b[49m\u001b[38;5;241;43m=\u001b[39;49m\u001b[43mparams\u001b[49m\u001b[43m[\u001b[49m\u001b[38;5;124;43m\"\u001b[39;49m\u001b[38;5;124;43mcollection_format\u001b[39;49m\u001b[38;5;124;43m\"\u001b[39;49m\u001b[43m]\u001b[49m\u001b[43m,\u001b[49m\n\u001b[1;32m    837\u001b[0m \u001b[43m\u001b[49m\u001b[43m)\u001b[49m\n",
      "File \u001b[0;32m/opt/anaconda3/envs/finalproject/lib/python3.11/site-packages/pinecone/core/openapi/shared/api_client.py:380\u001b[0m, in \u001b[0;36mApiClient.call_api\u001b[0;34m(self, resource_path, method, path_params, query_params, header_params, body, post_params, files, response_type, auth_settings, async_req, _return_http_data_only, collection_formats, _preload_content, _request_timeout, _host, _check_type)\u001b[0m\n\u001b[1;32m    326\u001b[0m \u001b[38;5;250m\u001b[39m\u001b[38;5;124;03m\"\"\"Makes the HTTP request (synchronous) and returns deserialized data.\u001b[39;00m\n\u001b[1;32m    327\u001b[0m \n\u001b[1;32m    328\u001b[0m \u001b[38;5;124;03mTo make an async_req request, set the async_req parameter.\u001b[39;00m\n\u001b[0;32m   (...)\u001b[0m\n\u001b[1;32m    377\u001b[0m \u001b[38;5;124;03m    then the method will return the response directly.\u001b[39;00m\n\u001b[1;32m    378\u001b[0m \u001b[38;5;124;03m\"\"\"\u001b[39;00m\n\u001b[1;32m    379\u001b[0m \u001b[38;5;28;01mif\u001b[39;00m \u001b[38;5;129;01mnot\u001b[39;00m async_req:\n\u001b[0;32m--> 380\u001b[0m     \u001b[38;5;28;01mreturn\u001b[39;00m \u001b[38;5;28;43mself\u001b[39;49m\u001b[38;5;241;43m.\u001b[39;49m\u001b[43m__call_api\u001b[49m\u001b[43m(\u001b[49m\n\u001b[1;32m    381\u001b[0m \u001b[43m        \u001b[49m\u001b[43mresource_path\u001b[49m\u001b[43m,\u001b[49m\n\u001b[1;32m    382\u001b[0m \u001b[43m        \u001b[49m\u001b[43mmethod\u001b[49m\u001b[43m,\u001b[49m\n\u001b[1;32m    383\u001b[0m \u001b[43m        \u001b[49m\u001b[43mpath_params\u001b[49m\u001b[43m,\u001b[49m\n\u001b[1;32m    384\u001b[0m \u001b[43m        \u001b[49m\u001b[43mquery_params\u001b[49m\u001b[43m,\u001b[49m\n\u001b[1;32m    385\u001b[0m \u001b[43m        \u001b[49m\u001b[43mheader_params\u001b[49m\u001b[43m,\u001b[49m\n\u001b[1;32m    386\u001b[0m \u001b[43m        \u001b[49m\u001b[43mbody\u001b[49m\u001b[43m,\u001b[49m\n\u001b[1;32m    387\u001b[0m \u001b[43m        \u001b[49m\u001b[43mpost_params\u001b[49m\u001b[43m,\u001b[49m\n\u001b[1;32m    388\u001b[0m \u001b[43m        \u001b[49m\u001b[43mfiles\u001b[49m\u001b[43m,\u001b[49m\n\u001b[1;32m    389\u001b[0m \u001b[43m        \u001b[49m\u001b[43mresponse_type\u001b[49m\u001b[43m,\u001b[49m\n\u001b[1;32m    390\u001b[0m \u001b[43m        \u001b[49m\u001b[43mauth_settings\u001b[49m\u001b[43m,\u001b[49m\n\u001b[1;32m    391\u001b[0m \u001b[43m        \u001b[49m\u001b[43m_return_http_data_only\u001b[49m\u001b[43m,\u001b[49m\n\u001b[1;32m    392\u001b[0m \u001b[43m        \u001b[49m\u001b[43mcollection_formats\u001b[49m\u001b[43m,\u001b[49m\n\u001b[1;32m    393\u001b[0m \u001b[43m        \u001b[49m\u001b[43m_preload_content\u001b[49m\u001b[43m,\u001b[49m\n\u001b[1;32m    394\u001b[0m \u001b[43m        \u001b[49m\u001b[43m_request_timeout\u001b[49m\u001b[43m,\u001b[49m\n\u001b[1;32m    395\u001b[0m \u001b[43m        \u001b[49m\u001b[43m_host\u001b[49m\u001b[43m,\u001b[49m\n\u001b[1;32m    396\u001b[0m \u001b[43m        \u001b[49m\u001b[43m_check_type\u001b[49m\u001b[43m,\u001b[49m\n\u001b[1;32m    397\u001b[0m \u001b[43m    \u001b[49m\u001b[43m)\u001b[49m\n\u001b[1;32m    399\u001b[0m \u001b[38;5;28;01mreturn\u001b[39;00m \u001b[38;5;28mself\u001b[39m\u001b[38;5;241m.\u001b[39mpool\u001b[38;5;241m.\u001b[39mapply_async(\n\u001b[1;32m    400\u001b[0m     \u001b[38;5;28mself\u001b[39m\u001b[38;5;241m.\u001b[39m__call_api,\n\u001b[1;32m    401\u001b[0m     (\n\u001b[0;32m   (...)\u001b[0m\n\u001b[1;32m    418\u001b[0m     ),\n\u001b[1;32m    419\u001b[0m )\n",
      "File \u001b[0;32m/opt/anaconda3/envs/finalproject/lib/python3.11/site-packages/pinecone/core/openapi/shared/api_client.py:187\u001b[0m, in \u001b[0;36mApiClient.__call_api\u001b[0;34m(self, resource_path, method, path_params, query_params, header_params, body, post_params, files, response_type, auth_settings, _return_http_data_only, collection_formats, _preload_content, _request_timeout, _host, _check_type)\u001b[0m\n\u001b[1;32m    185\u001b[0m \u001b[38;5;28;01mexcept\u001b[39;00m PineconeApiException \u001b[38;5;28;01mas\u001b[39;00m e:\n\u001b[1;32m    186\u001b[0m     e\u001b[38;5;241m.\u001b[39mbody \u001b[38;5;241m=\u001b[39m e\u001b[38;5;241m.\u001b[39mbody\u001b[38;5;241m.\u001b[39mdecode(\u001b[38;5;124m\"\u001b[39m\u001b[38;5;124mutf-8\u001b[39m\u001b[38;5;124m\"\u001b[39m)\n\u001b[0;32m--> 187\u001b[0m     \u001b[38;5;28;01mraise\u001b[39;00m e\n\u001b[1;32m    189\u001b[0m \u001b[38;5;28mself\u001b[39m\u001b[38;5;241m.\u001b[39mlast_response \u001b[38;5;241m=\u001b[39m response_data\n\u001b[1;32m    191\u001b[0m return_data \u001b[38;5;241m=\u001b[39m response_data\n",
      "File \u001b[0;32m/opt/anaconda3/envs/finalproject/lib/python3.11/site-packages/pinecone/core/openapi/shared/api_client.py:175\u001b[0m, in \u001b[0;36mApiClient.__call_api\u001b[0;34m(self, resource_path, method, path_params, query_params, header_params, body, post_params, files, response_type, auth_settings, _return_http_data_only, collection_formats, _preload_content, _request_timeout, _host, _check_type)\u001b[0m\n\u001b[1;32m    171\u001b[0m     url \u001b[38;5;241m=\u001b[39m _host \u001b[38;5;241m+\u001b[39m resource_path\n\u001b[1;32m    173\u001b[0m \u001b[38;5;28;01mtry\u001b[39;00m:\n\u001b[1;32m    174\u001b[0m     \u001b[38;5;66;03m# perform request and return response\u001b[39;00m\n\u001b[0;32m--> 175\u001b[0m     response_data \u001b[38;5;241m=\u001b[39m \u001b[38;5;28;43mself\u001b[39;49m\u001b[38;5;241;43m.\u001b[39;49m\u001b[43mrequest\u001b[49m\u001b[43m(\u001b[49m\n\u001b[1;32m    176\u001b[0m \u001b[43m        \u001b[49m\u001b[43mmethod\u001b[49m\u001b[43m,\u001b[49m\n\u001b[1;32m    177\u001b[0m \u001b[43m        \u001b[49m\u001b[43murl\u001b[49m\u001b[43m,\u001b[49m\n\u001b[1;32m    178\u001b[0m \u001b[43m        \u001b[49m\u001b[43mquery_params\u001b[49m\u001b[38;5;241;43m=\u001b[39;49m\u001b[43mquery_params\u001b[49m\u001b[43m,\u001b[49m\n\u001b[1;32m    179\u001b[0m \u001b[43m        \u001b[49m\u001b[43mheaders\u001b[49m\u001b[38;5;241;43m=\u001b[39;49m\u001b[43mheader_params\u001b[49m\u001b[43m,\u001b[49m\n\u001b[1;32m    180\u001b[0m \u001b[43m        \u001b[49m\u001b[43mpost_params\u001b[49m\u001b[38;5;241;43m=\u001b[39;49m\u001b[43mpost_params\u001b[49m\u001b[43m,\u001b[49m\n\u001b[1;32m    181\u001b[0m \u001b[43m        \u001b[49m\u001b[43mbody\u001b[49m\u001b[38;5;241;43m=\u001b[39;49m\u001b[43mbody\u001b[49m\u001b[43m,\u001b[49m\n\u001b[1;32m    182\u001b[0m \u001b[43m        \u001b[49m\u001b[43m_preload_content\u001b[49m\u001b[38;5;241;43m=\u001b[39;49m\u001b[43m_preload_content\u001b[49m\u001b[43m,\u001b[49m\n\u001b[1;32m    183\u001b[0m \u001b[43m        \u001b[49m\u001b[43m_request_timeout\u001b[49m\u001b[38;5;241;43m=\u001b[39;49m\u001b[43m_request_timeout\u001b[49m\u001b[43m,\u001b[49m\n\u001b[1;32m    184\u001b[0m \u001b[43m    \u001b[49m\u001b[43m)\u001b[49m\n\u001b[1;32m    185\u001b[0m \u001b[38;5;28;01mexcept\u001b[39;00m PineconeApiException \u001b[38;5;28;01mas\u001b[39;00m e:\n\u001b[1;32m    186\u001b[0m     e\u001b[38;5;241m.\u001b[39mbody \u001b[38;5;241m=\u001b[39m e\u001b[38;5;241m.\u001b[39mbody\u001b[38;5;241m.\u001b[39mdecode(\u001b[38;5;124m\"\u001b[39m\u001b[38;5;124mutf-8\u001b[39m\u001b[38;5;124m\"\u001b[39m)\n",
      "File \u001b[0;32m/opt/anaconda3/envs/finalproject/lib/python3.11/site-packages/pinecone/core/openapi/shared/api_client.py:460\u001b[0m, in \u001b[0;36mApiClient.request\u001b[0;34m(self, method, url, query_params, headers, post_params, body, _preload_content, _request_timeout)\u001b[0m\n\u001b[1;32m    450\u001b[0m     \u001b[38;5;28;01mreturn\u001b[39;00m \u001b[38;5;28mself\u001b[39m\u001b[38;5;241m.\u001b[39mrest_client\u001b[38;5;241m.\u001b[39mOPTIONS(\n\u001b[1;32m    451\u001b[0m         url,\n\u001b[1;32m    452\u001b[0m         query_params\u001b[38;5;241m=\u001b[39mquery_params,\n\u001b[0;32m   (...)\u001b[0m\n\u001b[1;32m    457\u001b[0m         body\u001b[38;5;241m=\u001b[39mbody,\n\u001b[1;32m    458\u001b[0m     )\n\u001b[1;32m    459\u001b[0m \u001b[38;5;28;01melif\u001b[39;00m method \u001b[38;5;241m==\u001b[39m \u001b[38;5;124m\"\u001b[39m\u001b[38;5;124mPOST\u001b[39m\u001b[38;5;124m\"\u001b[39m:\n\u001b[0;32m--> 460\u001b[0m     \u001b[38;5;28;01mreturn\u001b[39;00m \u001b[38;5;28;43mself\u001b[39;49m\u001b[38;5;241;43m.\u001b[39;49m\u001b[43mrest_client\u001b[49m\u001b[38;5;241;43m.\u001b[39;49m\u001b[43mPOST\u001b[49m\u001b[43m(\u001b[49m\n\u001b[1;32m    461\u001b[0m \u001b[43m        \u001b[49m\u001b[43murl\u001b[49m\u001b[43m,\u001b[49m\n\u001b[1;32m    462\u001b[0m \u001b[43m        \u001b[49m\u001b[43mquery_params\u001b[49m\u001b[38;5;241;43m=\u001b[39;49m\u001b[43mquery_params\u001b[49m\u001b[43m,\u001b[49m\n\u001b[1;32m    463\u001b[0m \u001b[43m        \u001b[49m\u001b[43mheaders\u001b[49m\u001b[38;5;241;43m=\u001b[39;49m\u001b[43mheaders\u001b[49m\u001b[43m,\u001b[49m\n\u001b[1;32m    464\u001b[0m \u001b[43m        \u001b[49m\u001b[43mpost_params\u001b[49m\u001b[38;5;241;43m=\u001b[39;49m\u001b[43mpost_params\u001b[49m\u001b[43m,\u001b[49m\n\u001b[1;32m    465\u001b[0m \u001b[43m        \u001b[49m\u001b[43m_preload_content\u001b[49m\u001b[38;5;241;43m=\u001b[39;49m\u001b[43m_preload_content\u001b[49m\u001b[43m,\u001b[49m\n\u001b[1;32m    466\u001b[0m \u001b[43m        \u001b[49m\u001b[43m_request_timeout\u001b[49m\u001b[38;5;241;43m=\u001b[39;49m\u001b[43m_request_timeout\u001b[49m\u001b[43m,\u001b[49m\n\u001b[1;32m    467\u001b[0m \u001b[43m        \u001b[49m\u001b[43mbody\u001b[49m\u001b[38;5;241;43m=\u001b[39;49m\u001b[43mbody\u001b[49m\u001b[43m,\u001b[49m\n\u001b[1;32m    468\u001b[0m \u001b[43m    \u001b[49m\u001b[43m)\u001b[49m\n\u001b[1;32m    469\u001b[0m \u001b[38;5;28;01melif\u001b[39;00m method \u001b[38;5;241m==\u001b[39m \u001b[38;5;124m\"\u001b[39m\u001b[38;5;124mPUT\u001b[39m\u001b[38;5;124m\"\u001b[39m:\n\u001b[1;32m    470\u001b[0m     \u001b[38;5;28;01mreturn\u001b[39;00m \u001b[38;5;28mself\u001b[39m\u001b[38;5;241m.\u001b[39mrest_client\u001b[38;5;241m.\u001b[39mPUT(\n\u001b[1;32m    471\u001b[0m         url,\n\u001b[1;32m    472\u001b[0m         query_params\u001b[38;5;241m=\u001b[39mquery_params,\n\u001b[0;32m   (...)\u001b[0m\n\u001b[1;32m    477\u001b[0m         body\u001b[38;5;241m=\u001b[39mbody,\n\u001b[1;32m    478\u001b[0m     )\n",
      "File \u001b[0;32m/opt/anaconda3/envs/finalproject/lib/python3.11/site-packages/pinecone/core/openapi/shared/rest.py:345\u001b[0m, in \u001b[0;36mRESTClientObject.POST\u001b[0;34m(self, url, headers, query_params, post_params, body, _preload_content, _request_timeout)\u001b[0m\n\u001b[1;32m    335\u001b[0m \u001b[38;5;28;01mdef\u001b[39;00m\u001b[38;5;250m \u001b[39m\u001b[38;5;21mPOST\u001b[39m(\n\u001b[1;32m    336\u001b[0m     \u001b[38;5;28mself\u001b[39m,\n\u001b[1;32m    337\u001b[0m     url,\n\u001b[0;32m   (...)\u001b[0m\n\u001b[1;32m    343\u001b[0m     _request_timeout\u001b[38;5;241m=\u001b[39m\u001b[38;5;28;01mNone\u001b[39;00m,\n\u001b[1;32m    344\u001b[0m ):\n\u001b[0;32m--> 345\u001b[0m     \u001b[38;5;28;01mreturn\u001b[39;00m \u001b[38;5;28;43mself\u001b[39;49m\u001b[38;5;241;43m.\u001b[39;49m\u001b[43mrequest\u001b[49m\u001b[43m(\u001b[49m\n\u001b[1;32m    346\u001b[0m \u001b[43m        \u001b[49m\u001b[38;5;124;43m\"\u001b[39;49m\u001b[38;5;124;43mPOST\u001b[39;49m\u001b[38;5;124;43m\"\u001b[39;49m\u001b[43m,\u001b[49m\n\u001b[1;32m    347\u001b[0m \u001b[43m        \u001b[49m\u001b[43murl\u001b[49m\u001b[43m,\u001b[49m\n\u001b[1;32m    348\u001b[0m \u001b[43m        \u001b[49m\u001b[43mheaders\u001b[49m\u001b[38;5;241;43m=\u001b[39;49m\u001b[43mheaders\u001b[49m\u001b[43m,\u001b[49m\n\u001b[1;32m    349\u001b[0m \u001b[43m        \u001b[49m\u001b[43mquery_params\u001b[49m\u001b[38;5;241;43m=\u001b[39;49m\u001b[43mquery_params\u001b[49m\u001b[43m,\u001b[49m\n\u001b[1;32m    350\u001b[0m \u001b[43m        \u001b[49m\u001b[43mpost_params\u001b[49m\u001b[38;5;241;43m=\u001b[39;49m\u001b[43mpost_params\u001b[49m\u001b[43m,\u001b[49m\n\u001b[1;32m    351\u001b[0m \u001b[43m        \u001b[49m\u001b[43m_preload_content\u001b[49m\u001b[38;5;241;43m=\u001b[39;49m\u001b[43m_preload_content\u001b[49m\u001b[43m,\u001b[49m\n\u001b[1;32m    352\u001b[0m \u001b[43m        \u001b[49m\u001b[43m_request_timeout\u001b[49m\u001b[38;5;241;43m=\u001b[39;49m\u001b[43m_request_timeout\u001b[49m\u001b[43m,\u001b[49m\n\u001b[1;32m    353\u001b[0m \u001b[43m        \u001b[49m\u001b[43mbody\u001b[49m\u001b[38;5;241;43m=\u001b[39;49m\u001b[43mbody\u001b[49m\u001b[43m,\u001b[49m\n\u001b[1;32m    354\u001b[0m \u001b[43m    \u001b[49m\u001b[43m)\u001b[49m\n",
      "File \u001b[0;32m/opt/anaconda3/envs/finalproject/lib/python3.11/site-packages/pinecone/core/openapi/shared/rest.py:279\u001b[0m, in \u001b[0;36mRESTClientObject.request\u001b[0;34m(self, method, url, query_params, headers, body, post_params, _preload_content, _request_timeout)\u001b[0m\n\u001b[1;32m    276\u001b[0m     \u001b[38;5;28;01mif\u001b[39;00m \u001b[38;5;241m500\u001b[39m \u001b[38;5;241m<\u001b[39m\u001b[38;5;241m=\u001b[39m r\u001b[38;5;241m.\u001b[39mstatus \u001b[38;5;241m<\u001b[39m\u001b[38;5;241m=\u001b[39m \u001b[38;5;241m599\u001b[39m:\n\u001b[1;32m    277\u001b[0m         \u001b[38;5;28;01mraise\u001b[39;00m ServiceException(http_resp\u001b[38;5;241m=\u001b[39mr)\n\u001b[0;32m--> 279\u001b[0m     \u001b[38;5;28;01mraise\u001b[39;00m PineconeApiException(http_resp\u001b[38;5;241m=\u001b[39mr)\n\u001b[1;32m    281\u001b[0m \u001b[38;5;28;01mreturn\u001b[39;00m r\n",
      "\u001b[0;31mPineconeApiException\u001b[0m: (409)\nReason: Conflict\nHTTP response headers: HTTPHeaderDict({'content-type': 'text/plain; charset=utf-8', 'access-control-allow-origin': '*', 'vary': 'origin,access-control-request-method,access-control-request-headers', 'access-control-expose-headers': '*', 'x-pinecone-api-version': '2024-07', 'X-Cloud-Trace-Context': 'd45cacb8e8a69b9f0cddce824527b164', 'Date': 'Sat, 15 Feb 2025 13:46:46 GMT', 'Server': 'Google Frontend', 'Content-Length': '85', 'Via': '1.1 google', 'Alt-Svc': 'h3=\":443\"; ma=2592000,h3-29=\":443\"; ma=2592000'})\nHTTP response body: {\"error\":{\"code\":\"ALREADY_EXISTS\",\"message\":\"Resource  already exists\"},\"status\":409}\n"
     ]
    }
   ],
   "source": [
    "# Create a Pinecone client\n",
    "pc = Pinecone(api_key=os.getenv(\"PINECONE_API_KEY\"))\n",
    "\n",
    "# Create a Pinecone index\n",
    "index_name = \"healthcare-qa-pdfs\"\n",
    "existing_indexes = pc.list_indexes()\n",
    "\n",
    "if index_name not in existing_indexes:\n",
    "    pc.create_index(\n",
    "        name=index_name,\n",
    "        dimension=1536,\n",
    "        metric=\"cosine\",\n",
    "        spec=spec\n",
    "    )\n",
    "    # Wait for the index to be created\n",
    "    while not pc.describe_index(index_name).status['ready']:\n",
    "        time.sleep(1)\n",
    "        \n",
    "# connect to index\n",
    "index = pc.Index(index_name)\n",
    "time.sleep(1)\n",
    "# view index stats\n",
    "index.describe_index_stats()"
   ]
  },
  {
   "cell_type": "code",
   "execution_count": 33,
   "metadata": {},
   "outputs": [],
   "source": [
    "pc.delete_index(index_name)"
   ]
  },
  {
   "cell_type": "markdown",
   "metadata": {},
   "source": [
    "## Testing with chunking "
   ]
  },
  {
   "cell_type": "code",
   "execution_count": 17,
   "metadata": {},
   "outputs": [],
   "source": [
    "def preprocess_text(text):\n",
    "    # Replace consecutive spaces, newlines, and tabs\n",
    "    text = re.sub(r'\\s+', ' ', text)\n",
    "    return text\n",
    "\n",
    "def chunk_text(text, chunk_size=512, overlap=50):\n",
    "    words = text.split()\n",
    "    chunks = []\n",
    "    for i in range(0, len(words), chunk_size - overlap):\n",
    "        chunk = ' '.join(words[i:i + chunk_size])\n",
    "        chunks.append(chunk)\n",
    "    return chunks\n",
    "\n",
    "def process_pdf(file_path):\n",
    "    reader = PdfReader(file_path)\n",
    "    texts = []\n",
    "    for page in reader.pages:\n",
    "        text = page.extract_text()\n",
    "        if text:\n",
    "            preprocessed_text = preprocess_text(text)\n",
    "            chunks = chunk_text(preprocessed_text)\n",
    "            texts.extend(chunks)\n",
    "    return texts\n",
    "\n",
    "def create_embeddings(texts):\n",
    "    embeddings = embed.embed_documents(texts)\n",
    "    return embeddings\n"
   ]
  },
  {
   "cell_type": "code",
   "execution_count": 36,
   "metadata": {},
   "outputs": [
    {
     "name": "stdout",
     "output_type": "stream",
     "text": [
      "Processing file: healthcare_pdfs/9789241513906-eng.pdf\n",
      "Extracted 134 texts from healthcare_pdfs/9789241513906-eng.pdf\n",
      "Created 134 embeddings for healthcare_pdfs/9789241513906-eng.pdf\n",
      "Processing file: healthcare_pdfs/whoheatlhStat.pdf\n",
      "Extracted 134 texts from healthcare_pdfs/whoheatlhStat.pdf\n",
      "Created 134 embeddings for healthcare_pdfs/whoheatlhStat.pdf\n"
     ]
    }
   ],
   "source": [
    "# Process PDFs and create embeddings\n",
    "directory_path = \"healthcare_pdfs\"  # Path to the directory containing PDF files\n",
    "all_texts = []\n",
    "all_embeddings = []\n",
    "all_ids = []\n",
    "\n",
    "for file_name in os.listdir(directory_path):\n",
    "    if file_name.endswith('.pdf'):\n",
    "        file_path = os.path.join(directory_path, file_name)\n",
    "        print(f\"Processing file: {file_path}\")\n",
    "        texts = process_pdf(file_path)\n",
    "        if texts:\n",
    "            print(f\"Extracted {len(texts)} texts from {file_path}\")\n",
    "            embeddings = create_embeddings(texts)\n",
    "            print(f\"Created {len(embeddings)} embeddings for {file_path}\")\n",
    "            all_texts.extend(texts)\n",
    "            all_embeddings.extend(embeddings)\n",
    "            all_ids.extend([f\"{file_path}_{i}\" for i in range(len(embeddings))])\n",
    "        else:\n",
    "            print(f\"No text extracted from {file_path}\")\n"
   ]
  },
  {
   "cell_type": "code",
   "execution_count": 37,
   "metadata": {},
   "outputs": [
    {
     "name": "stdout",
     "output_type": "stream",
     "text": [
      "Total texts: 268\n"
     ]
    },
    {
     "data": {
      "text/plain": [
       "['healthcare_pdfs/9789241513906-eng.pdf_0',\n",
       " 'healthcare_pdfs/9789241513906-eng.pdf_1']"
      ]
     },
     "execution_count": 37,
     "metadata": {},
     "output_type": "execute_result"
    }
   ],
   "source": [
    "#check chunked text\n",
    "all_texts[:2]\n",
    "\n",
    "print(f\"Total texts: {len(all_texts)}\")\n",
    "\n",
    "#check the scources of the text\n",
    "all_ids[:2]\n"
   ]
  },
  {
   "cell_type": "code",
   "execution_count": 43,
   "metadata": {},
   "outputs": [
    {
     "data": {
      "text/plain": [
       "{'upserted_count': 268}"
      ]
     },
     "execution_count": 43,
     "metadata": {},
     "output_type": "execute_result"
    }
   ],
   "source": [
    "#upsert the embeddings\n",
    "vectors = [{'id':id, 'values': np.array(embedding), 'metadata':{'text':text}} for id, embedding, text in zip(all_ids, all_embeddings, all_texts)]   \n",
    "index.upsert(vectors=vectors)"
   ]
  },
  {
   "cell_type": "code",
   "execution_count": 18,
   "metadata": {},
   "outputs": [
    {
     "ename": "NameError",
     "evalue": "name 'index' is not defined",
     "output_type": "error",
     "traceback": [
      "\u001b[0;31m---------------------------------------------------------------------------\u001b[0m",
      "\u001b[0;31mNameError\u001b[0m                                 Traceback (most recent call last)",
      "Cell \u001b[0;32mIn[18], line 2\u001b[0m\n\u001b[1;32m      1\u001b[0m \u001b[38;5;66;03m# Describe index stats\u001b[39;00m\n\u001b[0;32m----> 2\u001b[0m index_stats \u001b[38;5;241m=\u001b[39m \u001b[43mindex\u001b[49m\u001b[38;5;241m.\u001b[39mdescribe_index_stats()\n\u001b[1;32m      3\u001b[0m \u001b[38;5;28mprint\u001b[39m(index_stats)\n",
      "\u001b[0;31mNameError\u001b[0m: name 'index' is not defined"
     ]
    }
   ],
   "source": [
    "# Describe index stats\n",
    "index_stats = index.describe_index_stats()\n",
    "print(index_stats)"
   ]
  },
  {
   "cell_type": "code",
   "execution_count": 45,
   "metadata": {},
   "outputs": [],
   "source": [
    "query_embedding = create_embeddings(['what is the recommend treatment for diabetes?'])"
   ]
  },
  {
   "cell_type": "code",
   "execution_count": 46,
   "metadata": {},
   "outputs": [
    {
     "data": {
      "text/plain": [
       "{'matches': [{'id': 'healthcare_pdfs/9789241513906-eng.pdf_122',\n",
       "              'metadata': {'text': 'such as the attractiveness of the '\n",
       "                                   'environment or amicability of staff; '\n",
       "                                   'however, it has been shown that patients '\n",
       "                                   'are able to differentiate superficial '\n",
       "                                   'comforts from more meaningful engagement. '\n",
       "                                   '22. Patient self-management tools are '\n",
       "                                   'technologies and techniques used by '\n",
       "                                   'patients and families to manage their '\n",
       "                                   'health issues outside formal medical '\n",
       "                                   'institutions. They are increasingly '\n",
       "                                   'studied as quality improvement tools in '\n",
       "                                   'the context of growing empowerment of '\n",
       "                                   'patients worldwide. Given the increasing '\n",
       "                                   'prevalence of chronic disease globally, '\n",
       "                                   'diabetes self-management serves as a good '\n",
       "                                   'example. Diabetic patients involved with '\n",
       "                                   'self-management education programmes '\n",
       "                                   'demonstrated significant reductions in '\n",
       "                                   'glycosylated haemoglobin levels; in '\n",
       "                                   'Uganda, patient outcomes included '\n",
       "                                   'decreases in HbA1c percentage and '\n",
       "                                   'diastolic blood pressure, and in Honduras, '\n",
       "                                   'reports of self-care demonstrated '\n",
       "                                   'improvements in over 50% of patients in '\n",
       "                                   'blood sugar levels, diet and medication '\n",
       "                                   'adherence (79). One economic analysis of '\n",
       "                                   'interventions for diabetes found that '\n",
       "                                   'diabetes self-management training reduces '\n",
       "                                   'medical costs in developing countries in '\n",
       "                                   'the short term (80). Because mobile phones '\n",
       "                                   'are widely available, mHealth '\n",
       "                                   'interventions for self-management can be a '\n",
       "                                   'cost-effective tool (79).'},\n",
       "              'score': 0.792224824,\n",
       "              'values': []},\n",
       "             {'id': 'healthcare_pdfs/9789241513906-eng.pdf_64',\n",
       "              'metadata': {'text': 'condition; only 36.9% will be on '\n",
       "                                   'appropriate treatment; and as few as 13.8% '\n",
       "                                   'will have their blood pressure effectively '\n",
       "                                   'controlled. Significant disparities in '\n",
       "                                   'awareness and treatment exist by country '\n",
       "                                   'income level: in high- versus low- and '\n",
       "                                   'middle-income countries, rates of '\n",
       "                                   'diagnosis and treatment are twice as high '\n",
       "                                   'and 4 times the proportion of patients '\n",
       "                                   'have their blood pressure controlled. '\n",
       "                                   'Source: Mills et al. (96).'},\n",
       "              'score': 0.782337129,\n",
       "              'values': []},\n",
       "             {'id': 'healthcare_pdfs/whoheatlhStat.pdf_58',\n",
       "              'metadata': {'text': '2.2.3 Metabolic risk factors Metabolic '\n",
       "                                   'risk factors for NCDs include '\n",
       "                                   'hypertension, overweight and obesity, high '\n",
       "                                   'blood glucose levels and high levels of '\n",
       "                                   'fat in the blood. This section summarizes '\n",
       "                                   'the global progress towards the reduction '\n",
       "                                   'of hypertension; overweight and obesity '\n",
       "                                   'are discussed in section 4.1. Hypertension '\n",
       "                                   'For the purpose of monitoring population '\n",
       "                                   'health, hypertension is defined as having '\n",
       "                                   'raised blood pressure 4 or taking '\n",
       "                                   'medication for hypertension. The '\n",
       "                                   'age-standardized prevalence of '\n",
       "                                   'hypertension among adults aged 30–79 has '\n",
       "                                   'changed little in the past three decades '\n",
       "                                   'globally and in all WHO regions, with a '\n",
       "                                   'notable exception in the European Region, '\n",
       "                                   'where there has been a continuous decline. '\n",
       "                                   'In 2019, the global prevalence stood at '\n",
       "                                   '33.1% (UI: 31.5–34.8%), and slightly '\n",
       "                                   'higher among men (34.5%; UI: 32.0–36.9%) '\n",
       "                                   'than women (31.7%; UI: 29.6–33.9%). '\n",
       "                                   'However, available data suggests a higher '\n",
       "                                   'treatment coverage among women globally, '\n",
       "                                   'leading to a higher prevalence of '\n",
       "                                   'controlled hypertension than for men (Box '\n",
       "                                   '2.6) (39). The voluntary global target on '\n",
       "                                   'blood pressure envisages a 25% reduction '\n",
       "                                   'in raised blood pressure (uncontrolled '\n",
       "                                   'hypertension) by 2025 against a 2010 '\n",
       "                                   'baseline (31, 32). Globally, the '\n",
       "                                   'age-standardized prevalence of '\n",
       "                                   'uncontrolled hypertension declined '\n",
       "                                   'slightly from 28.6% (UI: 28.0– 29.3%) in '\n",
       "                                   '2010 to 26.2% (UI: 24.7–27.8%) in 2019, '\n",
       "                                   'but this pace of decline is insufficient '\n",
       "                                   'to achieve the global target by 2025 (39). '\n",
       "                                   '4 Defined as systolic blood pressure (SBP) '\n",
       "                                   '≥ 140 mmHg or diastolic blood pressure '\n",
       "                                   '(DBP) ≥ 90 mmHg, regardless of diagnosis '\n",
       "                                   'or medication status.2.2.4 Environmental '\n",
       "                                   'risk factors Human health is dependent on '\n",
       "                                   'a variety of environmental factors, such '\n",
       "                                   'as safe WASH, clean air, safe chemical '\n",
       "                                   'use, healthy built environments, sound '\n",
       "                                   'agricultural practices, and protected '\n",
       "                                   'natural areas and water sources. This '\n",
       "                                   'section outlines the global progress '\n",
       "                                   'towards universal access to WASH and the '\n",
       "                                   'reduction of air pollution. Trends in '\n",
       "                                   'mortality attributable to environmental '\n",
       "                                   'risk factors are discussed in Chapter 1. '\n",
       "                                   'WASH Between 2000 and 2022, worldwide some '\n",
       "                                   '2.1 billion people gained access to safely '\n",
       "                                   'managed drinking water (687 million '\n",
       "                                   'increase since 2015) and 2.5 billion '\n",
       "                                   'people gained access to safely managed '\n",
       "                                   'sanitation (902 million increase since '\n",
       "                                   '2015). Since 2015, the number of people '\n",
       "                                   'with basic hygiene services has increased '\n",
       "                                   'by over 1 billion. Access to safe WASH '\n",
       "                                   'services improved significantly in rural '\n",
       "                                   'areas between 2015 and 2022, but progress '\n",
       "                                   'is limited in urban areas, when measured '\n",
       "                                   'by the proportion of the population '\n",
       "                                   'gaining services. However, because of '\n",
       "                                   'population growth in urban areas, the '\n",
       "                                   'number of people who have gained access to '\n",
       "                                   'safely managed drinking water and '\n",
       "                                   'sanitation services since 2015 is higher '\n",
       "                                   'in urban than in rural areas (Fig. 2.9) '\n",
       "                                   '(40). Box 2.6 Global sex-related '\n",
       "                                   'inequalities in hypertension Globally, '\n",
       "                                   'there are sex-related inequalities in '\n",
       "                                   'age-standardized prevalence of '\n",
       "                                   'hypertension among adults aged 30–79 '\n",
       "                                   'years. While there was no sex-related '\n",
       "                                   'inequality in 1990 (prevalence of 32.4% '\n",
       "                                   '[UI: 29.9–35.0] among men and 32.2% [UI: '\n",
       "                                   '29.7–34.9] among women), hypertension '\n",
       "                                   'prevalence was slightly higher among men '\n",
       "                                   '(34.5%; UI: 32.0–36.9) than women (31.7%; '\n",
       "                                   'UI: 29.6–33.9) in 2019 (Fig. 2.8). '\n",
       "                                   'Age-standardized coverage of treatment for '\n",
       "                                   'hypertension among adults aged 30–79 years '\n",
       "                                   'with hypertension largely increased '\n",
       "                                   'between 1990 and 2019, with the pace of '\n",
       "                                   'increase slowing'},\n",
       "              'score': 0.763296306,\n",
       "              'values': []},\n",
       "             {'id': 'healthcare_pdfs/9789241513906-eng.pdf_121',\n",
       "              'metadata': {'text': 'DELIVERING QUALITY HEALTH SERVICES: A '\n",
       "                                   'GLOBAL IMPERATIVE FOR UNIVERSAL HEALTH '\n",
       "                                   'COVERAGE93to HIV treatment (71). There is '\n",
       "                                   'no evidence that shared decision-making '\n",
       "                                   'negatively impacts clinical care, though '\n",
       "                                   'there may be limitations to what can be '\n",
       "                                   'addressed in a single clinical visit, '\n",
       "                                   'given such factors as local concepts of '\n",
       "                                   'illness or historically grounded distrust '\n",
       "                                   'of “Western” medicine, which may motivate '\n",
       "                                   'patients to seek traditional medicines '\n",
       "                                   '(70). 20. Peer support and expert patient '\n",
       "                                   'groups link people living with similar '\n",
       "                                   'clinical conditions in order to share '\n",
       "                                   'knowledge and experiences. The approach '\n",
       "                                   'complements and enhances other health care '\n",
       "                                   'services by creating the emotional, social '\n",
       "                                   'and practical support necessary for '\n",
       "                                   'managing health problems and staying as '\n",
       "                                   'healthy as possible. The extensive '\n",
       "                                   'literature supporting the effectiveness of '\n",
       "                                   'peer support and patient groups in '\n",
       "                                   'HIV-infected adults provides insight into '\n",
       "                                   'what is both feasible and achievable as a '\n",
       "                                   'strategy for improving quality of care. A '\n",
       "                                   'systematic review of the impact of support '\n",
       "                                   'groups on people living with HIV showed '\n",
       "                                   'that support groups were associated with '\n",
       "                                   'reduced mortality and morbidity, increased '\n",
       "                                   'retention in care and improved quality of '\n",
       "                                   'life (72). Group visits have shown promise '\n",
       "                                   'in providing individual patients with a '\n",
       "                                   'peer support network to maximize '\n",
       "                                   'adherence, improve patient retention, '\n",
       "                                   'provide patient education, monitor side '\n",
       "                                   'effects, and achieve therapeutic gains '\n",
       "                                   '(73). In a South African support group, '\n",
       "                                   'participants were significantly more '\n",
       "                                   'likely to have an undetectable viral load '\n",
       "                                   'and a CD4 cell count greater than 200 '\n",
       "                                   'cells/mL at 12 months than those who did '\n",
       "                                   'not participate in a support group (72). '\n",
       "                                   'Given the severe human resource challenges '\n",
       "                                   'worldwide, specifically the shortage of '\n",
       "                                   'trained health care providers, support '\n",
       "                                   'groups can play a larger role in improving '\n",
       "                                   'the effectiveness of models of care (72). '\n",
       "                                   '21. Patient feedback and experience of '\n",
       "                                   'care as a strategy to better understand '\n",
       "                                   'and improve health service quality has '\n",
       "                                   'risen dramatically, primarily in '\n",
       "                                   'high-income countries. In these contexts '\n",
       "                                   'there is a growing body of evidence that '\n",
       "                                   'self-reported experience correlates with '\n",
       "                                   'other, more objective, measures of '\n",
       "                                   'clinical quality (74). Patient-reported '\n",
       "                                   'measures are associated with better '\n",
       "                                   'patient experience, adherence to '\n",
       "                                   'treatment, greater engagement with their '\n",
       "                                   'care, and better outcomes (75, 76) . A few '\n",
       "                                   'studies in low- and middle-income '\n",
       "                                   'countries have shown that patients can '\n",
       "                                   'adequately judge certain aspects of their '\n",
       "                                   'care. For example, a study based in the '\n",
       "                                   'United Republic of Tanzania found that '\n",
       "                                   'patients proactively sought care based on '\n",
       "                                   'their clinical needs, as judged by the '\n",
       "                                   'type and severity of symptoms, as well as '\n",
       "                                   'the perceived value of previously received '\n",
       "                                   'care (77). Audit-based evidence from '\n",
       "                                   'primary care settings in India found that '\n",
       "                                   'patients have a good idea of what they '\n",
       "                                   'both want and need from doctors and are '\n",
       "                                   'willing to pay for it (78). Some critics '\n",
       "                                   'are concerned that the main determinants '\n",
       "                                   'of patient experience may be driven by '\n",
       "                                   'factors such as the attractiveness of the '\n",
       "                                   'environment or amicability of staff; '\n",
       "                                   'however, it has been shown that patients '\n",
       "                                   'are able to differentiate superficial '\n",
       "                                   'comforts from more meaningful engagement. '\n",
       "                                   '22. Patient self-management tools are '\n",
       "                                   'technologies and techniques used by '\n",
       "                                   'patients and families to manage their '\n",
       "                                   'health issues outside formal medical '\n",
       "                                   'institutions.'},\n",
       "              'score': 0.757078588,\n",
       "              'values': []},\n",
       "             {'id': 'healthcare_pdfs/9789241513906-eng.pdf_131',\n",
       "              'metadata': {'text': 'people living with HIV on clinical '\n",
       "                                   'outcomes: a systematic review of the '\n",
       "                                   'literature. Journal of Acquired Immune '\n",
       "                                   'Deficiency Syndromes. 2015;68(Suppl '\n",
       "                                   '3):S368–74. 73. Gupta N, Bukhman G. '\n",
       "                                   'Leveraging the lessons learned from '\n",
       "                                   'HIV/AIDS for coordinated chronic care '\n",
       "                                   'delivery in resource-poor settings. '\n",
       "                                   'Healthcare. 2015;3(4):215–20.'},\n",
       "              'score': 0.75677532,\n",
       "              'values': []}],\n",
       " 'namespace': '',\n",
       " 'usage': {'read_units': 6}}"
      ]
     },
     "execution_count": 46,
     "metadata": {},
     "output_type": "execute_result"
    }
   ],
   "source": [
    "index.query(vector=query_embedding, top_k=5, include_metadata=True)"
   ]
  },
  {
   "cell_type": "code",
   "execution_count": 47,
   "metadata": {},
   "outputs": [
    {
     "name": "stdout",
     "output_type": "stream",
     "text": [
      "ID: healthcare_pdfs/9789241513906-eng.pdf_122, Score: 0.792224824\n",
      "Text: such as the attractiveness of the environment or amicability of staff; however, it has been shown that patients are able to differentiate superficial comforts from more meaningful engagement. 22. Patient self-management tools are technologies and techniques used by patients and families to manage their health issues outside formal medical institutions. They are increasingly studied as quality improvement tools in the context of growing empowerment of patients worldwide. Given the increasing prevalence of chronic disease globally, diabetes self-management serves as a good example. Diabetic patients involved with self-management education programmes demonstrated significant reductions in glycosylated haemoglobin levels; in Uganda, patient outcomes included decreases in HbA1c percentage and diastolic blood pressure, and in Honduras, reports of self-care demonstrated improvements in over 50% of patients in blood sugar levels, diet and medication adherence (79). One economic analysis of interventions for diabetes found that diabetes self-management training reduces medical costs in developing countries in the short term (80). Because mobile phones are widely available, mHealth interventions for self-management can be a cost-effective tool (79).\n",
      "\n",
      "ID: healthcare_pdfs/9789241513906-eng.pdf_64, Score: 0.782337129\n",
      "Text: condition; only 36.9% will be on appropriate treatment; and as few as 13.8% will have their blood pressure effectively controlled. Significant disparities in awareness and treatment exist by country income level: in high- versus low- and middle-income countries, rates of diagnosis and treatment are twice as high and 4 times the proportion of patients have their blood pressure controlled. Source: Mills et al. (96).\n",
      "\n",
      "ID: healthcare_pdfs/whoheatlhStat.pdf_58, Score: 0.763296306\n",
      "Text: 2.2.3 Metabolic risk factors Metabolic risk factors for NCDs include hypertension, overweight and obesity, high blood glucose levels and high levels of fat in the blood. This section summarizes the global progress towards the reduction of hypertension; overweight and obesity are discussed in section 4.1. Hypertension For the purpose of monitoring population health, hypertension is defined as having raised blood pressure 4 or taking medication for hypertension. The age-standardized prevalence of hypertension among adults aged 30–79 has changed little in the past three decades globally and in all WHO regions, with a notable exception in the European Region, where there has been a continuous decline. In 2019, the global prevalence stood at 33.1% (UI: 31.5–34.8%), and slightly higher among men (34.5%; UI: 32.0–36.9%) than women (31.7%; UI: 29.6–33.9%). However, available data suggests a higher treatment coverage among women globally, leading to a higher prevalence of controlled hypertension than for men (Box 2.6) (39). The voluntary global target on blood pressure envisages a 25% reduction in raised blood pressure (uncontrolled hypertension) by 2025 against a 2010 baseline (31, 32). Globally, the age-standardized prevalence of uncontrolled hypertension declined slightly from 28.6% (UI: 28.0– 29.3%) in 2010 to 26.2% (UI: 24.7–27.8%) in 2019, but this pace of decline is insufficient to achieve the global target by 2025 (39). 4 Defined as systolic blood pressure (SBP) ≥ 140 mmHg or diastolic blood pressure (DBP) ≥ 90 mmHg, regardless of diagnosis or medication status.2.2.4 Environmental risk factors Human health is dependent on a variety of environmental factors, such as safe WASH, clean air, safe chemical use, healthy built environments, sound agricultural practices, and protected natural areas and water sources. This section outlines the global progress towards universal access to WASH and the reduction of air pollution. Trends in mortality attributable to environmental risk factors are discussed in Chapter 1. WASH Between 2000 and 2022, worldwide some 2.1 billion people gained access to safely managed drinking water (687 million increase since 2015) and 2.5 billion people gained access to safely managed sanitation (902 million increase since 2015). Since 2015, the number of people with basic hygiene services has increased by over 1 billion. Access to safe WASH services improved significantly in rural areas between 2015 and 2022, but progress is limited in urban areas, when measured by the proportion of the population gaining services. However, because of population growth in urban areas, the number of people who have gained access to safely managed drinking water and sanitation services since 2015 is higher in urban than in rural areas (Fig. 2.9) (40). Box 2.6 Global sex-related inequalities in hypertension Globally, there are sex-related inequalities in age-standardized prevalence of hypertension among adults aged 30–79 years. While there was no sex-related inequality in 1990 (prevalence of 32.4% [UI: 29.9–35.0] among men and 32.2% [UI: 29.7–34.9] among women), hypertension prevalence was slightly higher among men (34.5%; UI: 32.0–36.9) than women (31.7%; UI: 29.6–33.9) in 2019 (Fig. 2.8). Age-standardized coverage of treatment for hypertension among adults aged 30–79 years with hypertension largely increased between 1990 and 2019, with the pace of increase slowing\n",
      "\n",
      "ID: healthcare_pdfs/9789241513906-eng.pdf_121, Score: 0.757078588\n",
      "Text: DELIVERING QUALITY HEALTH SERVICES: A GLOBAL IMPERATIVE FOR UNIVERSAL HEALTH COVERAGE93to HIV treatment (71). There is no evidence that shared decision-making negatively impacts clinical care, though there may be limitations to what can be addressed in a single clinical visit, given such factors as local concepts of illness or historically grounded distrust of “Western” medicine, which may motivate patients to seek traditional medicines (70). 20. Peer support and expert patient groups link people living with similar clinical conditions in order to share knowledge and experiences. The approach complements and enhances other health care services by creating the emotional, social and practical support necessary for managing health problems and staying as healthy as possible. The extensive literature supporting the effectiveness of peer support and patient groups in HIV-infected adults provides insight into what is both feasible and achievable as a strategy for improving quality of care. A systematic review of the impact of support groups on people living with HIV showed that support groups were associated with reduced mortality and morbidity, increased retention in care and improved quality of life (72). Group visits have shown promise in providing individual patients with a peer support network to maximize adherence, improve patient retention, provide patient education, monitor side effects, and achieve therapeutic gains (73). In a South African support group, participants were significantly more likely to have an undetectable viral load and a CD4 cell count greater than 200 cells/mL at 12 months than those who did not participate in a support group (72). Given the severe human resource challenges worldwide, specifically the shortage of trained health care providers, support groups can play a larger role in improving the effectiveness of models of care (72). 21. Patient feedback and experience of care as a strategy to better understand and improve health service quality has risen dramatically, primarily in high-income countries. In these contexts there is a growing body of evidence that self-reported experience correlates with other, more objective, measures of clinical quality (74). Patient-reported measures are associated with better patient experience, adherence to treatment, greater engagement with their care, and better outcomes (75, 76) . A few studies in low- and middle-income countries have shown that patients can adequately judge certain aspects of their care. For example, a study based in the United Republic of Tanzania found that patients proactively sought care based on their clinical needs, as judged by the type and severity of symptoms, as well as the perceived value of previously received care (77). Audit-based evidence from primary care settings in India found that patients have a good idea of what they both want and need from doctors and are willing to pay for it (78). Some critics are concerned that the main determinants of patient experience may be driven by factors such as the attractiveness of the environment or amicability of staff; however, it has been shown that patients are able to differentiate superficial comforts from more meaningful engagement. 22. Patient self-management tools are technologies and techniques used by patients and families to manage their health issues outside formal medical institutions.\n",
      "\n",
      "ID: healthcare_pdfs/9789241513906-eng.pdf_131, Score: 0.75677532\n",
      "Text: people living with HIV on clinical outcomes: a systematic review of the literature. Journal of Acquired Immune Deficiency Syndromes. 2015;68(Suppl 3):S368–74. 73. Gupta N, Bukhman G. Leveraging the lessons learned from HIV/AIDS for coordinated chronic care delivery in resource-poor settings. Healthcare. 2015;3(4):215–20.\n",
      "\n"
     ]
    }
   ],
   "source": [
    "results = index.query(vector=query_embedding, top_k=5)\n",
    "\n",
    "for match in results['matches']:\n",
    "    vector_id = match['id']\n",
    "    # Find the index of the vector_id in all_ids\n",
    "    try:\n",
    "        index_in_all_ids = all_ids.index(vector_id)\n",
    "        # Retrieve the corresponding text\n",
    "        text = all_texts[index_in_all_ids]\n",
    "        print(f\"ID: {vector_id}, Score: {match['score']}\")\n",
    "        print(f\"Text: {text}\\n\")  # Print the text for inspection\n",
    "\n",
    "    except ValueError:\n",
    "        print(f\"ID {vector_id} not found in all_ids\")"
   ]
  },
  {
   "cell_type": "markdown",
   "metadata": {},
   "source": [
    "## Create a  VectorStore "
   ]
  },
  {
   "cell_type": "code",
   "execution_count": 48,
   "metadata": {},
   "outputs": [],
   "source": [
    "index = pc.Index(index_name)"
   ]
  },
  {
   "cell_type": "code",
   "execution_count": 49,
   "metadata": {},
   "outputs": [
    {
     "data": {
      "text/plain": [
       "{'dimension': 1536,\n",
       " 'index_fullness': 0.0,\n",
       " 'namespaces': {'': {'vector_count': 268}},\n",
       " 'total_vector_count': 268}"
      ]
     },
     "execution_count": 49,
     "metadata": {},
     "output_type": "execute_result"
    }
   ],
   "source": [
    "index.describe_index_stats()"
   ]
  },
  {
   "cell_type": "code",
   "execution_count": 51,
   "metadata": {},
   "outputs": [
    {
     "name": "stderr",
     "output_type": "stream",
     "text": [
      "/usr/local/Caskroom/miniforge/base/envs/langchain_env/lib/python3.11/site-packages/langchain_community/vectorstores/pinecone.py:68: UserWarning: Passing in `embedding` as a Callable is deprecated. Please pass in an Embeddings object instead.\n",
      "  warnings.warn(\n"
     ]
    }
   ],
   "source": [
    "# Initialize Pinecone Vector Store\n",
    "from langchain.vectorstores import Pinecone\n",
    "\n",
    "text_field = \"text\"\n",
    "\n",
    "vectorstore = Pinecone(index, embed.embed_query, text_field)\n",
    "\n"
   ]
  },
  {
   "cell_type": "code",
   "execution_count": 52,
   "metadata": {},
   "outputs": [
    {
     "data": {
      "text/plain": [
       "[Document(metadata={}, page_content='such as the attractiveness of the environment or amicability of staff; however, it has been shown that patients are able to differentiate superficial comforts from more meaningful engagement. 22. Patient self-management tools are technologies and techniques used by patients and families to manage their health issues outside formal medical institutions. They are increasingly studied as quality improvement tools in the context of growing empowerment of patients worldwide. Given the increasing prevalence of chronic disease globally, diabetes self-management serves as a good example. Diabetic patients involved with self-management education programmes demonstrated significant reductions in glycosylated haemoglobin levels; in Uganda, patient outcomes included decreases in HbA1c percentage and diastolic blood pressure, and in Honduras, reports of self-care demonstrated improvements in over 50% of patients in blood sugar levels, diet and medication adherence (79). One economic analysis of interventions for diabetes found that diabetes self-management training reduces medical costs in developing countries in the short term (80). Because mobile phones are widely available, mHealth interventions for self-management can be a cost-effective tool (79).'),\n",
       " Document(metadata={}, page_content='condition; only 36.9% will be on appropriate treatment; and as few as 13.8% will have their blood pressure effectively controlled. Significant disparities in awareness and treatment exist by country income level: in high- versus low- and middle-income countries, rates of diagnosis and treatment are twice as high and 4 times the proportion of patients have their blood pressure controlled. Source: Mills et al. (96).'),\n",
       " Document(metadata={}, page_content='2.2.3 Metabolic risk factors Metabolic risk factors for NCDs include hypertension, overweight and obesity, high blood glucose levels and high levels of fat in the blood. This section summarizes the global progress towards the reduction of hypertension; overweight and obesity are discussed in section 4.1. Hypertension For the purpose of monitoring population health, hypertension is defined as having raised blood pressure 4 or taking medication for hypertension. The age-standardized prevalence of hypertension among adults aged 30–79 has changed little in the past three decades globally and in all WHO regions, with a notable exception in the European Region, where there has been a continuous decline. In 2019, the global prevalence stood at 33.1% (UI: 31.5–34.8%), and slightly higher among men (34.5%; UI: 32.0–36.9%) than women (31.7%; UI: 29.6–33.9%). However, available data suggests a higher treatment coverage among women globally, leading to a higher prevalence of controlled hypertension than for men (Box 2.6) (39). The voluntary global target on blood pressure envisages a 25% reduction in raised blood pressure (uncontrolled hypertension) by 2025 against a 2010 baseline (31, 32). Globally, the age-standardized prevalence of uncontrolled hypertension declined slightly from 28.6% (UI: 28.0– 29.3%) in 2010 to 26.2% (UI: 24.7–27.8%) in 2019, but this pace of decline is insufficient to achieve the global target by 2025 (39). 4 Defined as systolic blood pressure (SBP) ≥ 140 mmHg or diastolic blood pressure (DBP) ≥ 90 mmHg, regardless of diagnosis or medication status.2.2.4 Environmental risk factors Human health is dependent on a variety of environmental factors, such as safe WASH, clean air, safe chemical use, healthy built environments, sound agricultural practices, and protected natural areas and water sources. This section outlines the global progress towards universal access to WASH and the reduction of air pollution. Trends in mortality attributable to environmental risk factors are discussed in Chapter 1. WASH Between 2000 and 2022, worldwide some 2.1 billion people gained access to safely managed drinking water (687 million increase since 2015) and 2.5 billion people gained access to safely managed sanitation (902 million increase since 2015). Since 2015, the number of people with basic hygiene services has increased by over 1 billion. Access to safe WASH services improved significantly in rural areas between 2015 and 2022, but progress is limited in urban areas, when measured by the proportion of the population gaining services. However, because of population growth in urban areas, the number of people who have gained access to safely managed drinking water and sanitation services since 2015 is higher in urban than in rural areas (Fig. 2.9) (40). Box 2.6 Global sex-related inequalities in hypertension Globally, there are sex-related inequalities in age-standardized prevalence of hypertension among adults aged 30–79 years. While there was no sex-related inequality in 1990 (prevalence of 32.4% [UI: 29.9–35.0] among men and 32.2% [UI: 29.7–34.9] among women), hypertension prevalence was slightly higher among men (34.5%; UI: 32.0–36.9) than women (31.7%; UI: 29.6–33.9) in 2019 (Fig. 2.8). Age-standardized coverage of treatment for hypertension among adults aged 30–79 years with hypertension largely increased between 1990 and 2019, with the pace of increase slowing'),\n",
       " Document(metadata={}, page_content='DELIVERING QUALITY HEALTH SERVICES: A GLOBAL IMPERATIVE FOR UNIVERSAL HEALTH COVERAGE93to HIV treatment (71). There is no evidence that shared decision-making negatively impacts clinical care, though there may be limitations to what can be addressed in a single clinical visit, given such factors as local concepts of illness or historically grounded distrust of “Western” medicine, which may motivate patients to seek traditional medicines (70). 20. Peer support and expert patient groups link people living with similar clinical conditions in order to share knowledge and experiences. The approach complements and enhances other health care services by creating the emotional, social and practical support necessary for managing health problems and staying as healthy as possible. The extensive literature supporting the effectiveness of peer support and patient groups in HIV-infected adults provides insight into what is both feasible and achievable as a strategy for improving quality of care. A systematic review of the impact of support groups on people living with HIV showed that support groups were associated with reduced mortality and morbidity, increased retention in care and improved quality of life (72). Group visits have shown promise in providing individual patients with a peer support network to maximize adherence, improve patient retention, provide patient education, monitor side effects, and achieve therapeutic gains (73). In a South African support group, participants were significantly more likely to have an undetectable viral load and a CD4 cell count greater than 200 cells/mL at 12 months than those who did not participate in a support group (72). Given the severe human resource challenges worldwide, specifically the shortage of trained health care providers, support groups can play a larger role in improving the effectiveness of models of care (72). 21. Patient feedback and experience of care as a strategy to better understand and improve health service quality has risen dramatically, primarily in high-income countries. In these contexts there is a growing body of evidence that self-reported experience correlates with other, more objective, measures of clinical quality (74). Patient-reported measures are associated with better patient experience, adherence to treatment, greater engagement with their care, and better outcomes (75, 76) . A few studies in low- and middle-income countries have shown that patients can adequately judge certain aspects of their care. For example, a study based in the United Republic of Tanzania found that patients proactively sought care based on their clinical needs, as judged by the type and severity of symptoms, as well as the perceived value of previously received care (77). Audit-based evidence from primary care settings in India found that patients have a good idea of what they both want and need from doctors and are willing to pay for it (78). Some critics are concerned that the main determinants of patient experience may be driven by factors such as the attractiveness of the environment or amicability of staff; however, it has been shown that patients are able to differentiate superficial comforts from more meaningful engagement. 22. Patient self-management tools are technologies and techniques used by patients and families to manage their health issues outside formal medical institutions.'),\n",
       " Document(metadata={}, page_content='people living with HIV on clinical outcomes: a systematic review of the literature. Journal of Acquired Immune Deficiency Syndromes. 2015;68(Suppl 3):S368–74. 73. Gupta N, Bukhman G. Leveraging the lessons learned from HIV/AIDS for coordinated chronic care delivery in resource-poor settings. Healthcare. 2015;3(4):215–20.')]"
      ]
     },
     "execution_count": 52,
     "metadata": {},
     "output_type": "execute_result"
    }
   ],
   "source": [
    "# 5. Perform Similarity Search\n",
    "query = \"what is the recommend treatment for diabetes?\"\n",
    "\n",
    "results = vectorstore.similarity_search(query, k=5)\n",
    "\n",
    "results  # Print raw results\n"
   ]
  },
  {
   "cell_type": "markdown",
   "metadata": {},
   "source": [
    "## Create the chain"
   ]
  },
  {
   "cell_type": "code",
   "execution_count": 53,
   "metadata": {},
   "outputs": [],
   "source": [
    "#chat completion llm\n",
    "llm = ChatOpenAI(\n",
    "    model=\"gpt-4o\",\n",
    "    temperature=0.0,\n",
    "    openai_api_key=os.getenv(\"OPENAI_API_KEY\")\n",
    ")\n",
    "\n",
    "# Create a memory for the conversation\n",
    "conversational_memory = ConversationBufferMemory(\n",
    "    memory_key=\"chat_history\",\n",
    "    return_messages=True\n",
    ")\n",
    "\n",
    "# Create a retrieval QA chain\n",
    "\n",
    "qa = RetrievalQA.from_chain_type(\n",
    "    llm=llm,\n",
    "    chain_type=\"stuff\",\n",
    "    retriever=vectorstore.as_retriever(),\n",
    ")"
   ]
  },
  {
   "cell_type": "code",
   "execution_count": null,
   "metadata": {},
   "outputs": [],
   "source": []
  },
  {
   "cell_type": "code",
   "execution_count": 54,
   "metadata": {},
   "outputs": [],
   "source": [
    "\n",
    "# Define the base prompt\n",
    "SYSTEM_PROMPT = \"\"\"You are an advanced AI Healthcare Assistant working in a hospital setting. Your role is to:\n",
    "\n",
    "1. Provide accurate medical information based on verified sources\n",
    "2. Help interpret medical terminology in simple terms\n",
    "3. Assist with understanding healthcare procedures and protocols\n",
    "4. Direct users to appropriate medical resources\n",
    "5. Maintain patient privacy and medical ethics\n",
    "\n",
    "Important guidelines:\n",
    "- Always clarify you're an AI assistant, not a doctor\n",
    "- Recommend consulting healthcare professionals for specific medical advice\n",
    "- Base responses on scientific evidence and reliable medical sources\n",
    "- Keep responses clear, professional, and empathetic\n",
    "- Never make definitive medical diagnoses\n",
    "\n",
    "Knowledge base: You have access to WHO guidelines, CDC resources, Mayo Clinic data, and general healthcare information.\n",
    "\"\"\"\n",
    "\n",
    "# Create the prompt template\n",
    "prompt = ChatPromptTemplate.from_messages([\n",
    "    (\"system\", SYSTEM_PROMPT),\n",
    "    MessagesPlaceholder(variable_name=\"chat_history\"),\n",
    "    (\"human\", \"{input}\"),\n",
    "    MessagesPlaceholder(variable_name=\"agent_scratchpad\")\n",
    "])\n"
   ]
  },
  {
   "cell_type": "code",
   "execution_count": null,
   "metadata": {},
   "outputs": [
    {
     "name": "stderr",
     "output_type": "stream",
     "text": [
      "/var/folders/m4/v3yqcbp17rs4821v7fxg8t_c0000gn/T/ipykernel_78804/784054678.py:1: LangChainDeprecationWarning: The method `Chain.run` was deprecated in langchain 0.1.0 and will be removed in 1.0. Use :meth:`~invoke` instead.\n",
      "  qa.run(query)\n"
     ]
    },
    {
     "data": {
      "text/plain": [
       "'The context provided does not specify a recommended treatment for diabetes. However, it does mention that diabetes self-management education programs can lead to significant health improvements, such as reductions in glycosylated hemoglobin levels, better blood sugar control, and improved diet and medication adherence. It also highlights the potential cost-effectiveness of mHealth interventions for self-management. For specific treatment recommendations, it is best to consult a healthcare professional or refer to clinical guidelines from reputable health organizations.'"
      ]
     },
     "execution_count": 51,
     "metadata": {},
     "output_type": "execute_result"
    }
   ],
   "source": [
    "qa.run(query)"
   ]
  },
  {
   "cell_type": "markdown",
   "metadata": {},
   "source": [
    "## Tools"
   ]
  },
  {
   "cell_type": "code",
   "execution_count": 55,
   "metadata": {},
   "outputs": [],
   "source": [
    "# Create multiple tools\n",
    "tools = [\n",
    "    Tool(\n",
    "        name=\"Healthcare Data Analysis\",\n",
    "        description=\"Tool for analyzing healthcare dataset using pandas operations\",\n",
    "        func=query_healthcare_data\n",
    "    ),\n",
    "    Tool(\n",
    "        name=\"Medical Literature Search\",\n",
    "        description=\"Tool for searching medical literature and guidelines\",\n",
    "        func=qa.run  \n",
    "    )\n",
    "]\n"
   ]
  },
  {
   "cell_type": "markdown",
   "metadata": {},
   "source": [
    "### Agent Configuration and Memory Setup:"
   ]
  },
  {
   "cell_type": "markdown",
   "metadata": {},
   "source": [
    "Define Agent with LangChain"
   ]
  },
  {
   "cell_type": "markdown",
   "metadata": {},
   "source": [
    "#To do List\n",
    "Play arround with the agent with diferent queries\n",
    "\n",
    "implement a promtp and integrate witth the agent\n",
    "\n",
    "\n"
   ]
  },
  {
   "cell_type": "code",
   "execution_count": 56,
   "metadata": {},
   "outputs": [
    {
     "name": "stderr",
     "output_type": "stream",
     "text": [
      "/var/folders/m4/v3yqcbp17rs4821v7fxg8t_c0000gn/T/ipykernel_80126/2727219221.py:3: LangChainDeprecationWarning: LangChain agents will continue to be supported, but it is recommended for new use cases to be built with LangGraph. LangGraph offers a more flexible and full-featured framework for building agents, including support for tool-calling, persistence of state, and human-in-the-loop workflows. For details, refer to the `LangGraph documentation <https://langchain-ai.github.io/langgraph/>`_ as well as guides for `Migrating from AgentExecutor <https://python.langchain.com/docs/how_to/migrate_agent/>`_ and LangGraph's `Pre-built ReAct agent <https://langchain-ai.github.io/langgraph/how-tos/create-react-agent/>`_.\n",
      "  agent = initialize_agent(\n"
     ]
    }
   ],
   "source": [
    "from langchain.agents import initialize_agent\n",
    "\n",
    "agent = initialize_agent(\n",
    "    agent='chat-conversational-react-description',\n",
    "    tools=tools,\n",
    "    prompt=prompt,\n",
    "    llm=llm,\n",
    "    verbose=True,\n",
    "    max_iterations=3,\n",
    "    early_stopping_method='generate',\n",
    "    memory=conversational_memory\n",
    ")"
   ]
  },
  {
   "cell_type": "code",
   "execution_count": 57,
   "metadata": {},
   "outputs": [
    {
     "name": "stderr",
     "output_type": "stream",
     "text": [
      "/var/folders/m4/v3yqcbp17rs4821v7fxg8t_c0000gn/T/ipykernel_80126/4024130983.py:1: LangChainDeprecationWarning: The method `Chain.__call__` was deprecated in langchain 0.1.0 and will be removed in 1.0. Use :meth:`~invoke` instead.\n",
      "  agent(query)\n"
     ]
    },
    {
     "name": "stdout",
     "output_type": "stream",
     "text": [
      "\n",
      "\n",
      "\u001b[1m> Entering new AgentExecutor chain...\u001b[0m\n",
      "\u001b[32;1m\u001b[1;3m```json\n",
      "{\n",
      "    \"action\": \"Medical Literature Search\",\n",
      "    \"action_input\": \"recommended treatment for diabetes\"\n",
      "}\n",
      "```\u001b[0m\n",
      "Observation: \u001b[33;1m\u001b[1;3mThe recommended treatment for diabetes typically includes a combination of lifestyle changes, self-management education, and medication. Key components often involve:\n",
      "\n",
      "1. **Lifestyle Changes**: \n",
      "   - Diet: A balanced diet that controls carbohydrate intake and includes plenty of fruits, vegetables, and whole grains.\n",
      "   - Exercise: Regular physical activity to help manage weight and improve insulin sensitivity.\n",
      "   - Weight Management: Achieving and maintaining a healthy weight.\n",
      "\n",
      "2. **Self-Management Education**: \n",
      "   - Diabetes self-management education programs can help patients understand how to manage their condition effectively, including monitoring blood sugar levels and recognizing symptoms of high or low blood sugar.\n",
      "\n",
      "3. **Medication**: \n",
      "   - Depending on the type of diabetes and individual needs, medications may include insulin or oral hypoglycemic agents to help control blood sugar levels.\n",
      "\n",
      "4. **Regular Monitoring**: \n",
      "   - Regular monitoring of blood glucose levels and glycosylated hemoglobin (HbA1c) to assess long-term glucose control.\n",
      "\n",
      "5. **Regular Check-ups**: \n",
      "   - Regular visits to healthcare providers to monitor for complications and adjust treatment as necessary.\n",
      "\n",
      "It's important for individuals with diabetes to work closely with their healthcare team to develop a personalized treatment plan.\u001b[0m\n",
      "Thought:\u001b[32;1m\u001b[1;3m```json\n",
      "{\n",
      "    \"action\": \"Final Answer\",\n",
      "    \"action_input\": \"The recommended treatment for diabetes typically includes a combination of lifestyle changes, self-management education, and medication. Key components often involve:\\n\\n1. **Lifestyle Changes**: \\n   - Diet: A balanced diet that controls carbohydrate intake and includes plenty of fruits, vegetables, and whole grains.\\n   - Exercise: Regular physical activity to help manage weight and improve insulin sensitivity.\\n   - Weight Management: Achieving and maintaining a healthy weight.\\n\\n2. **Self-Management Education**: \\n   - Diabetes self-management education programs can help patients understand how to manage their condition effectively, including monitoring blood sugar levels and recognizing symptoms of high or low blood sugar.\\n\\n3. **Medication**: \\n   - Depending on the type of diabetes and individual needs, medications may include insulin or oral hypoglycemic agents to help control blood sugar levels.\\n\\n4. **Regular Monitoring**: \\n   - Regular monitoring of blood glucose levels and glycosylated hemoglobin (HbA1c) to assess long-term glucose control.\\n\\n5. **Regular Check-ups**: \\n   - Regular visits to healthcare providers to monitor for complications and adjust treatment as necessary.\\n\\nIt's important for individuals with diabetes to work closely with their healthcare team to develop a personalized treatment plan.\"\n",
      "}\n",
      "```\u001b[0m\n",
      "\n",
      "\u001b[1m> Finished chain.\u001b[0m\n"
     ]
    },
    {
     "data": {
      "text/plain": [
       "{'input': 'what is the recommend treatment for diabetes?',\n",
       " 'chat_history': [HumanMessage(content='what is the recommend treatment for diabetes?', additional_kwargs={}, response_metadata={}),\n",
       "  AIMessage(content=\"The recommended treatment for diabetes typically includes a combination of lifestyle changes, self-management education, and medication. Key components often involve:\\n\\n1. **Lifestyle Changes**: \\n   - Diet: A balanced diet that controls carbohydrate intake and includes plenty of fruits, vegetables, and whole grains.\\n   - Exercise: Regular physical activity to help manage weight and improve insulin sensitivity.\\n   - Weight Management: Achieving and maintaining a healthy weight.\\n\\n2. **Self-Management Education**: \\n   - Diabetes self-management education programs can help patients understand how to manage their condition effectively, including monitoring blood sugar levels and recognizing symptoms of high or low blood sugar.\\n\\n3. **Medication**: \\n   - Depending on the type of diabetes and individual needs, medications may include insulin or oral hypoglycemic agents to help control blood sugar levels.\\n\\n4. **Regular Monitoring**: \\n   - Regular monitoring of blood glucose levels and glycosylated hemoglobin (HbA1c) to assess long-term glucose control.\\n\\n5. **Regular Check-ups**: \\n   - Regular visits to healthcare providers to monitor for complications and adjust treatment as necessary.\\n\\nIt's important for individuals with diabetes to work closely with their healthcare team to develop a personalized treatment plan.\", additional_kwargs={}, response_metadata={})],\n",
       " 'output': \"The recommended treatment for diabetes typically includes a combination of lifestyle changes, self-management education, and medication. Key components often involve:\\n\\n1. **Lifestyle Changes**: \\n   - Diet: A balanced diet that controls carbohydrate intake and includes plenty of fruits, vegetables, and whole grains.\\n   - Exercise: Regular physical activity to help manage weight and improve insulin sensitivity.\\n   - Weight Management: Achieving and maintaining a healthy weight.\\n\\n2. **Self-Management Education**: \\n   - Diabetes self-management education programs can help patients understand how to manage their condition effectively, including monitoring blood sugar levels and recognizing symptoms of high or low blood sugar.\\n\\n3. **Medication**: \\n   - Depending on the type of diabetes and individual needs, medications may include insulin or oral hypoglycemic agents to help control blood sugar levels.\\n\\n4. **Regular Monitoring**: \\n   - Regular monitoring of blood glucose levels and glycosylated hemoglobin (HbA1c) to assess long-term glucose control.\\n\\n5. **Regular Check-ups**: \\n   - Regular visits to healthcare providers to monitor for complications and adjust treatment as necessary.\\n\\nIt's important for individuals with diabetes to work closely with their healthcare team to develop a personalized treatment plan.\"}"
      ]
     },
     "execution_count": 57,
     "metadata": {},
     "output_type": "execute_result"
    }
   ],
   "source": [
    "agent(query)"
   ]
  },
  {
   "cell_type": "code",
   "execution_count": 74,
   "metadata": {},
   "outputs": [
    {
     "name": "stdout",
     "output_type": "stream",
     "text": [
      "\n",
      "\n",
      "\u001b[1m> Entering new AgentExecutor chain...\u001b[0m\n",
      "\u001b[32;1m\u001b[1;3m```json\n",
      "{\n",
      "    \"action\": \"Healthcare Data Analysis\",\n",
      "    \"action_input\": \"Please provide the dataset containing admission dates so that I can analyze the number of admissions by month.\"\n",
      "}\n",
      "```\u001b[0m\n",
      "\n",
      "\u001b[1m> Entering new AgentExecutor chain...\u001b[0m\n",
      "\u001b[32;1m\u001b[1;3m\n",
      "Invoking: `python_repl_ast` with `{'query': \"df[['Date of Admission']].copy()\"}`\n",
      "\n",
      "\n",
      "\u001b[0m\u001b[36;1m\u001b[1;3m      Date of Admission\n",
      "0            2024-01-31\n",
      "1            2019-08-20\n",
      "2            2022-09-22\n",
      "3            2020-11-18\n",
      "4            2022-09-19\n",
      "...                 ...\n",
      "55495        2020-08-16\n",
      "55496        2020-01-23\n",
      "55497        2020-07-13\n",
      "55498        2019-05-25\n",
      "55499        2024-04-02\n",
      "\n",
      "[55500 rows x 1 columns]\u001b[0m\u001b[32;1m\u001b[1;3mThe dataset containing admission dates has 55,500 entries. Here is a preview of the data:\n",
      "\n",
      "```\n",
      "      Date of Admission\n",
      "0            2024-01-31\n",
      "1            2019-08-20\n",
      "2            2022-09-22\n",
      "3            2020-11-18\n",
      "4            2022-09-19\n",
      "...\n",
      "55495        2020-08-16\n",
      "55496        2020-01-23\n",
      "55497        2020-07-13\n",
      "55498        2019-05-25\n",
      "55499        2024-04-02\n",
      "```\n",
      "\n",
      "You can use this data to analyze the number of admissions by month.\u001b[0m\n",
      "\n",
      "\u001b[1m> Finished chain.\u001b[0m\n",
      "\n",
      "Observation: \u001b[36;1m\u001b[1;3mThe dataset containing admission dates has 55,500 entries. Here is a preview of the data:\n",
      "\n",
      "```\n",
      "      Date of Admission\n",
      "0            2024-01-31\n",
      "1            2019-08-20\n",
      "2            2022-09-22\n",
      "3            2020-11-18\n",
      "4            2022-09-19\n",
      "...\n",
      "55495        2020-08-16\n",
      "55496        2020-01-23\n",
      "55497        2020-07-13\n",
      "55498        2019-05-25\n",
      "55499        2024-04-02\n",
      "```\n",
      "\n",
      "You can use this data to analyze the number of admissions by month.\u001b[0m\n",
      "Thought:\u001b[32;1m\u001b[1;3m```json\n",
      "{\n",
      "    \"action\": \"Healthcare Data Analysis\",\n",
      "    \"action_input\": \"Analyze the dataset to calculate the number of admissions for each month.\"\n",
      "}\n",
      "```\u001b[0m\n",
      "\n",
      "\u001b[1m> Entering new AgentExecutor chain...\u001b[0m\n",
      "\u001b[32;1m\u001b[1;3m\n",
      "Invoking: `python_repl_ast` with `{'query': \"# First, let's convert the 'Date of Admission' column to datetime format to ensure proper handling of dates.\\ndf['Date of Admission'] = pd.to_datetime(df['Date of Admission'])\\n\\n# Now, let's extract the month and year from the 'Date of Admission' and count the number of admissions for each month.\\nadmissions_per_month = df['Date of Admission'].dt.to_period('M').value_counts().sort_index()\\nadmissions_per_month\"}`\n",
      "\n",
      "\n",
      "\u001b[0m\u001b[36;1m\u001b[1;3mNameError: name 'pd' is not defined\u001b[0m\u001b[32;1m\u001b[1;3m\n",
      "Invoking: `python_repl_ast` with `{'query': \"import pandas as pd\\n\\n# Re-run the previous code after importing pandas.\\ndf['Date of Admission'] = pd.to_datetime(df['Date of Admission'])\\nadmissions_per_month = df['Date of Admission'].dt.to_period('M').value_counts().sort_index()\\nadmissions_per_month\"}`\n",
      "\n",
      "\n",
      "\u001b[0m\u001b[36;1m\u001b[1;3mDate of Admission\n",
      "2019-05     686\n",
      "2019-06     907\n",
      "2019-07     957\n",
      "2019-08    1001\n",
      "2019-09     936\n",
      "           ... \n",
      "2024-01     909\n",
      "2024-02     880\n",
      "2024-03     906\n",
      "2024-04     946\n",
      "2024-05     213\n",
      "Freq: M, Name: count, Length: 61, dtype: int64\u001b[0m\u001b[32;1m\u001b[1;3mThe dataset contains the number of admissions for each month from May 2019 to May 2024. Here are some highlights:\n",
      "\n",
      "- The highest number of admissions in a single month was in August 2019, with 1,001 admissions.\n",
      "- The dataset covers a total of 61 months.\n",
      "- The number of admissions varies each month, with the lowest recorded in May 2024, with 213 admissions.\n",
      "\n",
      "If you need more detailed information or specific months, feel free to ask!\u001b[0m\n",
      "\n",
      "\u001b[1m> Finished chain.\u001b[0m\n",
      "\n",
      "Observation: \u001b[36;1m\u001b[1;3mThe dataset contains the number of admissions for each month from May 2019 to May 2024. Here are some highlights:\n",
      "\n",
      "- The highest number of admissions in a single month was in August 2019, with 1,001 admissions.\n",
      "- The dataset covers a total of 61 months.\n",
      "- The number of admissions varies each month, with the lowest recorded in May 2024, with 213 admissions.\n",
      "\n",
      "If you need more detailed information or specific months, feel free to ask!\u001b[0m\n",
      "Thought:\u001b[32;1m\u001b[1;3m```json\n",
      "{\n",
      "    \"action\": \"Final Answer\",\n",
      "    \"action_input\": \"The dataset contains the number of admissions for each month from May 2019 to May 2024. The highest number of admissions in a single month was in August 2019, with 1,001 admissions. The dataset covers a total of 61 months, and the number of admissions varies each month, with the lowest recorded in May 2024, with 213 admissions.\"\n",
      "}\n",
      "```\u001b[0m\n",
      "\n",
      "\u001b[1m> Finished chain.\u001b[0m\n"
     ]
    },
    {
     "data": {
      "text/plain": [
       "{'input': 'can you tell how many admissions by month?',\n",
       " 'chat_history': [HumanMessage(content='what is the recommend treatment for diabetes?', additional_kwargs={}, response_metadata={}),\n",
       "  AIMessage(content='The recommended treatment for diabetes typically includes a combination of lifestyle changes, self-management education, and medication. Key components include:\\n\\n1. **Lifestyle Changes**: A balanced diet low in sugar and refined carbohydrates, high in fiber, fruits, and vegetables, along with regular physical activity to help control blood sugar levels and maintain a healthy weight.\\n\\n2. **Self-Management Education**: Programs that help patients understand how to manage their condition effectively, including monitoring blood sugar levels and recognizing symptoms of high or low blood sugar.\\n\\n3. **Medication**: Depending on the type of diabetes and individual patient needs, medications may include insulin or oral hypoglycemic agents to help control blood sugar levels.\\n\\n4. **Regular Monitoring**: Regular monitoring of blood sugar levels and glycosylated hemoglobin (HbA1c) to assess long-term glucose control.\\n\\n5. **Healthcare Provider Support**: Regular check-ups with healthcare providers to monitor the condition and adjust treatment as necessary.\\n\\nThese components are tailored to individual needs and may vary based on the type of diabetes, patient health status, and other factors.', additional_kwargs={}, response_metadata={}),\n",
       "  HumanMessage(content='can you tell how many admissions by month?', additional_kwargs={}, response_metadata={}),\n",
       "  AIMessage(content='The dataset contains the number of admissions for each month from May 2019 to May 2024. The highest number of admissions in a single month was in August 2019, with 1,001 admissions. The dataset covers a total of 61 months, and the number of admissions varies each month, with the lowest recorded in May 2024, with 213 admissions.', additional_kwargs={}, response_metadata={})],\n",
       " 'output': 'The dataset contains the number of admissions for each month from May 2019 to May 2024. The highest number of admissions in a single month was in August 2019, with 1,001 admissions. The dataset covers a total of 61 months, and the number of admissions varies each month, with the lowest recorded in May 2024, with 213 admissions.'}"
      ]
     },
     "execution_count": 74,
     "metadata": {},
     "output_type": "execute_result"
    }
   ],
   "source": [
    "agent(\"can you tell how many admissions by month?\")"
   ]
  },
  {
   "cell_type": "code",
   "execution_count": 72,
   "metadata": {},
   "outputs": [
    {
     "name": "stdout",
     "output_type": "stream",
     "text": [
      "\n",
      "\n",
      "\u001b[1m> Entering new AgentExecutor chain...\u001b[0m\n",
      "\u001b[32;1m\u001b[1;3m```json\n",
      "{\n",
      "    \"action\": \"Medical Literature Search\",\n",
      "    \"action_input\": \"recommended treatment for diabetes\"\n",
      "}\n",
      "```\u001b[0m\n",
      "Observation: \u001b[33;1m\u001b[1;3mThe recommended treatment for diabetes typically includes a combination of lifestyle changes, self-management education, and medication. Key components often include:\n",
      "\n",
      "1. **Lifestyle Changes**: \n",
      "   - **Diet**: A balanced diet that is low in sugar and refined carbohydrates, and high in fiber, fruits, and vegetables.\n",
      "   - **Exercise**: Regular physical activity to help control blood sugar levels and maintain a healthy weight.\n",
      "\n",
      "2. **Self-Management Education**: \n",
      "   - Education programs that teach patients how to monitor their blood sugar levels, manage their diet, and adhere to their medication regimen.\n",
      "\n",
      "3. **Medication**: \n",
      "   - Depending on the type of diabetes and individual needs, medications may include insulin or oral hypoglycemic agents to help control blood sugar levels.\n",
      "\n",
      "4. **Regular Monitoring**: \n",
      "   - Regular monitoring of blood sugar levels and glycosylated hemoglobin (HbA1c) to assess long-term glucose control.\n",
      "\n",
      "5. **mHealth Interventions**: \n",
      "   - Use of mobile health technologies to support self-management and improve adherence to treatment plans.\n",
      "\n",
      "These components are tailored to the individual needs of the patient and are adjusted based on their response to treatment.\u001b[0m\n",
      "Thought:\u001b[32;1m\u001b[1;3m```json\n",
      "{\n",
      "    \"action\": \"Final Answer\",\n",
      "    \"action_input\": \"The recommended treatment for diabetes typically includes a combination of lifestyle changes, self-management education, and medication. Key components often include:\\n\\n1. **Lifestyle Changes**: \\n   - **Diet**: A balanced diet that is low in sugar and refined carbohydrates, and high in fiber, fruits, and vegetables.\\n   - **Exercise**: Regular physical activity to help control blood sugar levels and maintain a healthy weight.\\n\\n2. **Self-Management Education**: \\n   - Education programs that teach patients how to monitor their blood sugar levels, manage their diet, and adhere to their medication regimen.\\n\\n3. **Medication**: \\n   - Depending on the type of diabetes and individual needs, medications may include insulin or oral hypoglycemic agents to help control blood sugar levels.\\n\\n4. **Regular Monitoring**: \\n   - Regular monitoring of blood sugar levels and glycosylated hemoglobin (HbA1c) to assess long-term glucose control.\\n\\n5. **mHealth Interventions**: \\n   - Use of mobile health technologies to support self-management and improve adherence to treatment plans.\\n\\nThese components are tailored to the individual needs of the patient and are adjusted based on their response to treatment.\"\n",
      "}\n",
      "```\u001b[0m\n",
      "\n",
      "\u001b[1m> Finished chain.\u001b[0m\n",
      "Question: what is the recommend treatment for diabetes?\n",
      "Response: {'input': 'what is the recommend treatment for diabetes?', 'chat_history': [HumanMessage(content='what is the recommend treatment for diabetes?', additional_kwargs={}, response_metadata={}), AIMessage(content=\"The recommended treatment for diabetes typically includes a combination of lifestyle changes, self-management education, and medication. Key components often involve:\\n\\n1. **Lifestyle Changes**: \\n   - Diet: A balanced diet that controls carbohydrate intake and includes plenty of fruits, vegetables, and whole grains.\\n   - Exercise: Regular physical activity to help manage weight and improve insulin sensitivity.\\n   - Weight Management: Achieving and maintaining a healthy weight.\\n\\n2. **Self-Management Education**: \\n   - Diabetes self-management education programs can help patients understand how to manage their condition effectively, including monitoring blood sugar levels and recognizing symptoms of high or low blood sugar.\\n\\n3. **Medication**: \\n   - Depending on the type of diabetes and individual needs, medications may include insulin or oral hypoglycemic agents to help control blood sugar levels.\\n\\n4. **Regular Monitoring**: \\n   - Regular monitoring of blood glucose levels and glycosylated hemoglobin (HbA1c) to assess long-term glucose control.\\n\\n5. **Regular Check-ups**: \\n   - Regular visits to healthcare providers to monitor for complications and adjust treatment as necessary.\\n\\nIt's important for individuals with diabetes to work closely with their healthcare team to develop a personalized treatment plan.\", additional_kwargs={}, response_metadata={}), HumanMessage(content='what is the recommend treatment for diabetes?', additional_kwargs={}, response_metadata={}), AIMessage(content='The recommended treatment for diabetes typically includes a combination of lifestyle changes, self-management education, and medication. Key components often include:\\n\\n1. **Lifestyle Changes**: \\n   - **Diet**: A balanced diet that is low in sugar and refined carbohydrates, and high in fiber, fruits, and vegetables.\\n   - **Exercise**: Regular physical activity to help control blood sugar levels and maintain a healthy weight.\\n\\n2. **Self-Management Education**: \\n   - Education programs that teach patients how to monitor their blood sugar levels, manage their diet, and adhere to their medication regimen.\\n\\n3. **Medication**: \\n   - Depending on the type of diabetes and individual needs, medications may include insulin or oral hypoglycemic agents to help control blood sugar levels.\\n\\n4. **Regular Monitoring**: \\n   - Regular monitoring of blood sugar levels and glycosylated hemoglobin (HbA1c) to assess long-term glucose control.\\n\\n5. **mHealth Interventions**: \\n   - Use of mobile health technologies to support self-management and improve adherence to treatment plans.\\n\\nThese components are tailored to the individual needs of the patient and are adjusted based on their response to treatment.', additional_kwargs={}, response_metadata={})], 'output': 'The recommended treatment for diabetes typically includes a combination of lifestyle changes, self-management education, and medication. Key components often include:\\n\\n1. **Lifestyle Changes**: \\n   - **Diet**: A balanced diet that is low in sugar and refined carbohydrates, and high in fiber, fruits, and vegetables.\\n   - **Exercise**: Regular physical activity to help control blood sugar levels and maintain a healthy weight.\\n\\n2. **Self-Management Education**: \\n   - Education programs that teach patients how to monitor their blood sugar levels, manage their diet, and adhere to their medication regimen.\\n\\n3. **Medication**: \\n   - Depending on the type of diabetes and individual needs, medications may include insulin or oral hypoglycemic agents to help control blood sugar levels.\\n\\n4. **Regular Monitoring**: \\n   - Regular monitoring of blood sugar levels and glycosylated hemoglobin (HbA1c) to assess long-term glucose control.\\n\\n5. **mHealth Interventions**: \\n   - Use of mobile health technologies to support self-management and improve adherence to treatment plans.\\n\\nThese components are tailored to the individual needs of the patient and are adjusted based on their response to treatment.'}\n",
      "\n",
      "\n",
      "\n",
      "\u001b[1m> Entering new AgentExecutor chain...\u001b[0m\n",
      "\u001b[32;1m\u001b[1;3m```json\n",
      "{\n",
      "    \"action\": \"Healthcare Data Analysis\",\n",
      "    \"action_input\": \"Calculate the average billing amount from the healthcare dataset.\"\n",
      "}\n",
      "```\u001b[0m\n",
      "\n",
      "\u001b[1m> Entering new AgentExecutor chain...\u001b[0m\n",
      "\u001b[32;1m\u001b[1;3m\n",
      "Invoking: `python_repl_ast` with `{'query': \"average_billing_amount = df['Billing Amount'].mean()\\naverage_billing_amount\"}`\n",
      "\n",
      "\n",
      "\u001b[0m\u001b[36;1m\u001b[1;3m25539.316097211795\u001b[0m\u001b[32;1m\u001b[1;3mThe average billing amount from the healthcare dataset is approximately 25,539.32.\u001b[0m\n",
      "\n",
      "\u001b[1m> Finished chain.\u001b[0m\n",
      "\n",
      "Observation: \u001b[36;1m\u001b[1;3mThe average billing amount from the healthcare dataset is approximately 25,539.32.\u001b[0m\n",
      "Thought:\u001b[32;1m\u001b[1;3m```json\n",
      "{\n",
      "    \"action\": \"Final Answer\",\n",
      "    \"action_input\": \"The average billing amount is approximately 25,539.32.\"\n",
      "}\n",
      "```\u001b[0m\n",
      "\n",
      "\u001b[1m> Finished chain.\u001b[0m\n",
      "Question: what is the average billing amount?\n",
      "Response: {'input': 'what is the average billing amount?', 'chat_history': [HumanMessage(content='what is the recommend treatment for diabetes?', additional_kwargs={}, response_metadata={}), AIMessage(content=\"The recommended treatment for diabetes typically includes a combination of lifestyle changes, self-management education, and medication. Key components often involve:\\n\\n1. **Lifestyle Changes**: \\n   - Diet: A balanced diet that controls carbohydrate intake and includes plenty of fruits, vegetables, and whole grains.\\n   - Exercise: Regular physical activity to help manage weight and improve insulin sensitivity.\\n   - Weight Management: Achieving and maintaining a healthy weight.\\n\\n2. **Self-Management Education**: \\n   - Diabetes self-management education programs can help patients understand how to manage their condition effectively, including monitoring blood sugar levels and recognizing symptoms of high or low blood sugar.\\n\\n3. **Medication**: \\n   - Depending on the type of diabetes and individual needs, medications may include insulin or oral hypoglycemic agents to help control blood sugar levels.\\n\\n4. **Regular Monitoring**: \\n   - Regular monitoring of blood glucose levels and glycosylated hemoglobin (HbA1c) to assess long-term glucose control.\\n\\n5. **Regular Check-ups**: \\n   - Regular visits to healthcare providers to monitor for complications and adjust treatment as necessary.\\n\\nIt's important for individuals with diabetes to work closely with their healthcare team to develop a personalized treatment plan.\", additional_kwargs={}, response_metadata={}), HumanMessage(content='what is the recommend treatment for diabetes?', additional_kwargs={}, response_metadata={}), AIMessage(content='The recommended treatment for diabetes typically includes a combination of lifestyle changes, self-management education, and medication. Key components often include:\\n\\n1. **Lifestyle Changes**: \\n   - **Diet**: A balanced diet that is low in sugar and refined carbohydrates, and high in fiber, fruits, and vegetables.\\n   - **Exercise**: Regular physical activity to help control blood sugar levels and maintain a healthy weight.\\n\\n2. **Self-Management Education**: \\n   - Education programs that teach patients how to monitor their blood sugar levels, manage their diet, and adhere to their medication regimen.\\n\\n3. **Medication**: \\n   - Depending on the type of diabetes and individual needs, medications may include insulin or oral hypoglycemic agents to help control blood sugar levels.\\n\\n4. **Regular Monitoring**: \\n   - Regular monitoring of blood sugar levels and glycosylated hemoglobin (HbA1c) to assess long-term glucose control.\\n\\n5. **mHealth Interventions**: \\n   - Use of mobile health technologies to support self-management and improve adherence to treatment plans.\\n\\nThese components are tailored to the individual needs of the patient and are adjusted based on their response to treatment.', additional_kwargs={}, response_metadata={}), HumanMessage(content='what is the average billing amount?', additional_kwargs={}, response_metadata={}), AIMessage(content='The average billing amount is approximately 25,539.32.', additional_kwargs={}, response_metadata={})], 'output': 'The average billing amount is approximately 25,539.32.'}\n",
      "\n",
      "\n",
      "\n",
      "\u001b[1m> Entering new AgentExecutor chain...\u001b[0m\n",
      "\u001b[32;1m\u001b[1;3m```json\n",
      "{\n",
      "    \"action\": \"Healthcare Data Analysis\",\n",
      "    \"action_input\": \"Count the number of patients with a diagnosis of cancer in the dataset.\"\n",
      "}\n",
      "```\u001b[0m\n",
      "\n",
      "\u001b[1m> Entering new AgentExecutor chain...\u001b[0m\n",
      "\u001b[32;1m\u001b[1;3m\n",
      "Invoking: `python_repl_ast` with `{'query': \"cancer_patients_count = df[df['Medical Condition'] == 'Cancer'].shape[0]\\ncancer_patients_count\"}`\n",
      "\n",
      "\n",
      "\u001b[0m\u001b[36;1m\u001b[1;3m9227\u001b[0m\u001b[32;1m\u001b[1;3mThere are 9,227 patients with a diagnosis of cancer in the dataset.\u001b[0m\n",
      "\n",
      "\u001b[1m> Finished chain.\u001b[0m\n",
      "\n",
      "Observation: \u001b[36;1m\u001b[1;3mThere are 9,227 patients with a diagnosis of cancer in the dataset.\u001b[0m\n",
      "Thought:\u001b[32;1m\u001b[1;3m```json\n",
      "{\n",
      "    \"action\": \"Final Answer\",\n",
      "    \"action_input\": \"There are 9,227 patients with a diagnosis of cancer.\"\n",
      "}\n",
      "```\u001b[0m\n",
      "\n",
      "\u001b[1m> Finished chain.\u001b[0m\n",
      "Question: How many patients are there with cancer?\n",
      "Response: {'input': 'How many patients are there with cancer?', 'chat_history': [HumanMessage(content='what is the recommend treatment for diabetes?', additional_kwargs={}, response_metadata={}), AIMessage(content=\"The recommended treatment for diabetes typically includes a combination of lifestyle changes, self-management education, and medication. Key components often involve:\\n\\n1. **Lifestyle Changes**: \\n   - Diet: A balanced diet that controls carbohydrate intake and includes plenty of fruits, vegetables, and whole grains.\\n   - Exercise: Regular physical activity to help manage weight and improve insulin sensitivity.\\n   - Weight Management: Achieving and maintaining a healthy weight.\\n\\n2. **Self-Management Education**: \\n   - Diabetes self-management education programs can help patients understand how to manage their condition effectively, including monitoring blood sugar levels and recognizing symptoms of high or low blood sugar.\\n\\n3. **Medication**: \\n   - Depending on the type of diabetes and individual needs, medications may include insulin or oral hypoglycemic agents to help control blood sugar levels.\\n\\n4. **Regular Monitoring**: \\n   - Regular monitoring of blood glucose levels and glycosylated hemoglobin (HbA1c) to assess long-term glucose control.\\n\\n5. **Regular Check-ups**: \\n   - Regular visits to healthcare providers to monitor for complications and adjust treatment as necessary.\\n\\nIt's important for individuals with diabetes to work closely with their healthcare team to develop a personalized treatment plan.\", additional_kwargs={}, response_metadata={}), HumanMessage(content='what is the recommend treatment for diabetes?', additional_kwargs={}, response_metadata={}), AIMessage(content='The recommended treatment for diabetes typically includes a combination of lifestyle changes, self-management education, and medication. Key components often include:\\n\\n1. **Lifestyle Changes**: \\n   - **Diet**: A balanced diet that is low in sugar and refined carbohydrates, and high in fiber, fruits, and vegetables.\\n   - **Exercise**: Regular physical activity to help control blood sugar levels and maintain a healthy weight.\\n\\n2. **Self-Management Education**: \\n   - Education programs that teach patients how to monitor their blood sugar levels, manage their diet, and adhere to their medication regimen.\\n\\n3. **Medication**: \\n   - Depending on the type of diabetes and individual needs, medications may include insulin or oral hypoglycemic agents to help control blood sugar levels.\\n\\n4. **Regular Monitoring**: \\n   - Regular monitoring of blood sugar levels and glycosylated hemoglobin (HbA1c) to assess long-term glucose control.\\n\\n5. **mHealth Interventions**: \\n   - Use of mobile health technologies to support self-management and improve adherence to treatment plans.\\n\\nThese components are tailored to the individual needs of the patient and are adjusted based on their response to treatment.', additional_kwargs={}, response_metadata={}), HumanMessage(content='what is the average billing amount?', additional_kwargs={}, response_metadata={}), AIMessage(content='The average billing amount is approximately 25,539.32.', additional_kwargs={}, response_metadata={}), HumanMessage(content='How many patients are there with cancer?', additional_kwargs={}, response_metadata={}), AIMessage(content='There are 9,227 patients with a diagnosis of cancer.', additional_kwargs={}, response_metadata={})], 'output': 'There are 9,227 patients with a diagnosis of cancer.'}\n",
      "\n",
      "\n",
      "\n",
      "\u001b[1m> Entering new AgentExecutor chain...\u001b[0m\n",
      "\u001b[32;1m\u001b[1;3m```json\n",
      "{\n",
      "    \"action\": \"Healthcare Data Analysis\",\n",
      "    \"action_input\": \"Calculate the number of admissions by month from the healthcare dataset.\"\n",
      "}\n",
      "```\u001b[0m\n",
      "\n",
      "\u001b[1m> Entering new AgentExecutor chain...\u001b[0m\n",
      "\u001b[32;1m\u001b[1;3m\n",
      "Invoking: `python_repl_ast` with `{'query': \"# First, convert the 'Date of Admission' to datetime format\\ndf['Date of Admission'] = pd.to_datetime(df['Date of Admission'])\\n\\n# Extract the month and year from the 'Date of Admission'\\ndf['Admission Month'] = df['Date of Admission'].dt.to_period('M')\\n\\n# Count the number of admissions per month\\nadmissions_by_month = df['Admission Month'].value_counts().sort_index()\\nadmissions_by_month\"}`\n",
      "\n",
      "\n",
      "\u001b[0m\u001b[36;1m\u001b[1;3mNameError: name 'pd' is not defined\u001b[0m\u001b[32;1m\u001b[1;3m\n",
      "Invoking: `python_repl_ast` with `{'query': \"import pandas as pd\\n\\n# Re-run the previous code after importing pandas\\n# Convert the 'Date of Admission' to datetime format\\ndf['Date of Admission'] = pd.to_datetime(df['Date of Admission'])\\n\\n# Extract the month and year from the 'Date of Admission'\\ndf['Admission Month'] = df['Date of Admission'].dt.to_period('M')\\n\\n# Count the number of admissions per month\\nadmissions_by_month = df['Admission Month'].value_counts().sort_index()\\nadmissions_by_month\"}`\n",
      "\n",
      "\n",
      "\u001b[0m\u001b[36;1m\u001b[1;3mAdmission Month\n",
      "2019-05     686\n",
      "2019-06     907\n",
      "2019-07     957\n",
      "2019-08    1001\n",
      "2019-09     936\n",
      "           ... \n",
      "2024-01     909\n",
      "2024-02     880\n",
      "2024-03     906\n",
      "2024-04     946\n",
      "2024-05     213\n",
      "Freq: M, Name: count, Length: 61, dtype: int64\u001b[0m\u001b[32;1m\u001b[1;3mThe number of admissions by month from the healthcare dataset is as follows:\n",
      "\n",
      "- May 2019: 686 admissions\n",
      "- June 2019: 907 admissions\n",
      "- July 2019: 957 admissions\n",
      "- August 2019: 1001 admissions\n",
      "- September 2019: 936 admissions\n",
      "- ...\n",
      "- January 2024: 909 admissions\n",
      "- February 2024: 880 admissions\n",
      "- March 2024: 906 admissions\n",
      "- April 2024: 946 admissions\n",
      "- May 2024: 213 admissions\n",
      "\n",
      "(Note: The list is abbreviated for brevity, showing only a few months from the beginning and end of the dataset.)\u001b[0m\n",
      "\n",
      "\u001b[1m> Finished chain.\u001b[0m\n",
      "\n",
      "Observation: \u001b[36;1m\u001b[1;3mThe number of admissions by month from the healthcare dataset is as follows:\n",
      "\n",
      "- May 2019: 686 admissions\n",
      "- June 2019: 907 admissions\n",
      "- July 2019: 957 admissions\n",
      "- August 2019: 1001 admissions\n",
      "- September 2019: 936 admissions\n",
      "- ...\n",
      "- January 2024: 909 admissions\n",
      "- February 2024: 880 admissions\n",
      "- March 2024: 906 admissions\n",
      "- April 2024: 946 admissions\n",
      "- May 2024: 213 admissions\n",
      "\n",
      "(Note: The list is abbreviated for brevity, showing only a few months from the beginning and end of the dataset.)\u001b[0m\n",
      "Thought:\u001b[32;1m\u001b[1;3m```json\n",
      "{\n",
      "    \"action\": \"Final Answer\",\n",
      "    \"action_input\": \"The number of admissions by month varies, with some example figures being 686 admissions in May 2019, 1001 admissions in August 2019, and 946 admissions in April 2024. The data shows fluctuations in admissions over time.\"\n",
      "}\n",
      "```\u001b[0m\n",
      "\n",
      "\u001b[1m> Finished chain.\u001b[0m\n",
      "Question: Can you tell how many admissions by month?\n",
      "Response: {'input': 'Can you tell how many admissions by month?', 'chat_history': [HumanMessage(content='what is the recommend treatment for diabetes?', additional_kwargs={}, response_metadata={}), AIMessage(content=\"The recommended treatment for diabetes typically includes a combination of lifestyle changes, self-management education, and medication. Key components often involve:\\n\\n1. **Lifestyle Changes**: \\n   - Diet: A balanced diet that controls carbohydrate intake and includes plenty of fruits, vegetables, and whole grains.\\n   - Exercise: Regular physical activity to help manage weight and improve insulin sensitivity.\\n   - Weight Management: Achieving and maintaining a healthy weight.\\n\\n2. **Self-Management Education**: \\n   - Diabetes self-management education programs can help patients understand how to manage their condition effectively, including monitoring blood sugar levels and recognizing symptoms of high or low blood sugar.\\n\\n3. **Medication**: \\n   - Depending on the type of diabetes and individual needs, medications may include insulin or oral hypoglycemic agents to help control blood sugar levels.\\n\\n4. **Regular Monitoring**: \\n   - Regular monitoring of blood glucose levels and glycosylated hemoglobin (HbA1c) to assess long-term glucose control.\\n\\n5. **Regular Check-ups**: \\n   - Regular visits to healthcare providers to monitor for complications and adjust treatment as necessary.\\n\\nIt's important for individuals with diabetes to work closely with their healthcare team to develop a personalized treatment plan.\", additional_kwargs={}, response_metadata={}), HumanMessage(content='what is the recommend treatment for diabetes?', additional_kwargs={}, response_metadata={}), AIMessage(content='The recommended treatment for diabetes typically includes a combination of lifestyle changes, self-management education, and medication. Key components often include:\\n\\n1. **Lifestyle Changes**: \\n   - **Diet**: A balanced diet that is low in sugar and refined carbohydrates, and high in fiber, fruits, and vegetables.\\n   - **Exercise**: Regular physical activity to help control blood sugar levels and maintain a healthy weight.\\n\\n2. **Self-Management Education**: \\n   - Education programs that teach patients how to monitor their blood sugar levels, manage their diet, and adhere to their medication regimen.\\n\\n3. **Medication**: \\n   - Depending on the type of diabetes and individual needs, medications may include insulin or oral hypoglycemic agents to help control blood sugar levels.\\n\\n4. **Regular Monitoring**: \\n   - Regular monitoring of blood sugar levels and glycosylated hemoglobin (HbA1c) to assess long-term glucose control.\\n\\n5. **mHealth Interventions**: \\n   - Use of mobile health technologies to support self-management and improve adherence to treatment plans.\\n\\nThese components are tailored to the individual needs of the patient and are adjusted based on their response to treatment.', additional_kwargs={}, response_metadata={}), HumanMessage(content='what is the average billing amount?', additional_kwargs={}, response_metadata={}), AIMessage(content='The average billing amount is approximately 25,539.32.', additional_kwargs={}, response_metadata={}), HumanMessage(content='How many patients are there with cancer?', additional_kwargs={}, response_metadata={}), AIMessage(content='There are 9,227 patients with a diagnosis of cancer.', additional_kwargs={}, response_metadata={}), HumanMessage(content='Can you tell how many admissions by month?', additional_kwargs={}, response_metadata={}), AIMessage(content='The number of admissions by month varies, with some example figures being 686 admissions in May 2019, 1001 admissions in August 2019, and 946 admissions in April 2024. The data shows fluctuations in admissions over time.', additional_kwargs={}, response_metadata={})], 'output': 'The number of admissions by month varies, with some example figures being 686 admissions in May 2019, 1001 admissions in August 2019, and 946 admissions in April 2024. The data shows fluctuations in admissions over time.'}\n",
      "\n",
      "\n",
      "\n",
      "\u001b[1m> Entering new AgentExecutor chain...\u001b[0m\n",
      "\u001b[32;1m\u001b[1;3m```json\n",
      "{\n",
      "    \"action\": \"Healthcare Data Analysis\",\n",
      "    \"action_input\": \"Predict the average billing amount based on patient condition data.\"\n",
      "}\n",
      "```\u001b[0m\n",
      "\n",
      "\u001b[1m> Entering new AgentExecutor chain...\u001b[0m\n",
      "\u001b[32;1m\u001b[1;3m\n",
      "Invoking: `python_repl_ast` with `{'query': \"df.groupby('Medical Condition')['Billing Amount'].mean()\"}`\n",
      "responded: To predict the average billing amount based on patient condition data, we can group the data by the \"Medical Condition\" column and calculate the mean of the \"Billing Amount\" for each condition. Let's perform this calculation.\n",
      "\n",
      "\u001b[0m\u001b[36;1m\u001b[1;3mMedical Condition\n",
      "Arthritis       25497.327056\n",
      "Asthma          25635.249359\n",
      "Cancer          25161.792707\n",
      "Diabetes        25638.405577\n",
      "Hypertension    25497.095761\n",
      "Obesity         25805.971259\n",
      "Name: Billing Amount, dtype: float64\u001b[0m\u001b[32;1m\u001b[1;3mThe average billing amount based on patient medical conditions is as follows:\n",
      "\n",
      "- Arthritis: $25,497.33\n",
      "- Asthma: $25,635.25\n",
      "- Cancer: $25,161.79\n",
      "- Diabetes: $25,638.41\n",
      "- Hypertension: $25,497.10\n",
      "- Obesity: $25,805.97\u001b[0m\n",
      "\n",
      "\u001b[1m> Finished chain.\u001b[0m\n",
      "\n",
      "Observation: \u001b[36;1m\u001b[1;3mThe average billing amount based on patient medical conditions is as follows:\n",
      "\n",
      "- Arthritis: $25,497.33\n",
      "- Asthma: $25,635.25\n",
      "- Cancer: $25,161.79\n",
      "- Diabetes: $25,638.41\n",
      "- Hypertension: $25,497.10\n",
      "- Obesity: $25,805.97\u001b[0m\n",
      "Thought:\u001b[32;1m\u001b[1;3m```json\n",
      "{\n",
      "    \"action\": \"Final Answer\",\n",
      "    \"action_input\": \"The average billing amount based on patient medical conditions is as follows:\\n\\n- Arthritis: $25,497.33\\n- Asthma: $25,635.25\\n- Cancer: $25,161.79\\n- Diabetes: $25,638.41\\n- Hypertension: $25,497.10\\n- Obesity: $25,805.97\"\n",
      "}\n",
      "```\u001b[0m\n",
      "\n",
      "\u001b[1m> Finished chain.\u001b[0m\n",
      "Question: Can you tell a prediction based on the condition what is the average  billing amount?\n",
      "Response: {'input': 'Can you tell a prediction based on the condition what is the average  billing amount?', 'chat_history': [HumanMessage(content='what is the recommend treatment for diabetes?', additional_kwargs={}, response_metadata={}), AIMessage(content=\"The recommended treatment for diabetes typically includes a combination of lifestyle changes, self-management education, and medication. Key components often involve:\\n\\n1. **Lifestyle Changes**: \\n   - Diet: A balanced diet that controls carbohydrate intake and includes plenty of fruits, vegetables, and whole grains.\\n   - Exercise: Regular physical activity to help manage weight and improve insulin sensitivity.\\n   - Weight Management: Achieving and maintaining a healthy weight.\\n\\n2. **Self-Management Education**: \\n   - Diabetes self-management education programs can help patients understand how to manage their condition effectively, including monitoring blood sugar levels and recognizing symptoms of high or low blood sugar.\\n\\n3. **Medication**: \\n   - Depending on the type of diabetes and individual needs, medications may include insulin or oral hypoglycemic agents to help control blood sugar levels.\\n\\n4. **Regular Monitoring**: \\n   - Regular monitoring of blood glucose levels and glycosylated hemoglobin (HbA1c) to assess long-term glucose control.\\n\\n5. **Regular Check-ups**: \\n   - Regular visits to healthcare providers to monitor for complications and adjust treatment as necessary.\\n\\nIt's important for individuals with diabetes to work closely with their healthcare team to develop a personalized treatment plan.\", additional_kwargs={}, response_metadata={}), HumanMessage(content='what is the recommend treatment for diabetes?', additional_kwargs={}, response_metadata={}), AIMessage(content='The recommended treatment for diabetes typically includes a combination of lifestyle changes, self-management education, and medication. Key components often include:\\n\\n1. **Lifestyle Changes**: \\n   - **Diet**: A balanced diet that is low in sugar and refined carbohydrates, and high in fiber, fruits, and vegetables.\\n   - **Exercise**: Regular physical activity to help control blood sugar levels and maintain a healthy weight.\\n\\n2. **Self-Management Education**: \\n   - Education programs that teach patients how to monitor their blood sugar levels, manage their diet, and adhere to their medication regimen.\\n\\n3. **Medication**: \\n   - Depending on the type of diabetes and individual needs, medications may include insulin or oral hypoglycemic agents to help control blood sugar levels.\\n\\n4. **Regular Monitoring**: \\n   - Regular monitoring of blood sugar levels and glycosylated hemoglobin (HbA1c) to assess long-term glucose control.\\n\\n5. **mHealth Interventions**: \\n   - Use of mobile health technologies to support self-management and improve adherence to treatment plans.\\n\\nThese components are tailored to the individual needs of the patient and are adjusted based on their response to treatment.', additional_kwargs={}, response_metadata={}), HumanMessage(content='what is the average billing amount?', additional_kwargs={}, response_metadata={}), AIMessage(content='The average billing amount is approximately 25,539.32.', additional_kwargs={}, response_metadata={}), HumanMessage(content='How many patients are there with cancer?', additional_kwargs={}, response_metadata={}), AIMessage(content='There are 9,227 patients with a diagnosis of cancer.', additional_kwargs={}, response_metadata={}), HumanMessage(content='Can you tell how many admissions by month?', additional_kwargs={}, response_metadata={}), AIMessage(content='The number of admissions by month varies, with some example figures being 686 admissions in May 2019, 1001 admissions in August 2019, and 946 admissions in April 2024. The data shows fluctuations in admissions over time.', additional_kwargs={}, response_metadata={}), HumanMessage(content='Can you tell a prediction based on the condition what is the average  billing amount?', additional_kwargs={}, response_metadata={}), AIMessage(content='The average billing amount based on patient medical conditions is as follows:\\n\\n- Arthritis: $25,497.33\\n- Asthma: $25,635.25\\n- Cancer: $25,161.79\\n- Diabetes: $25,638.41\\n- Hypertension: $25,497.10\\n- Obesity: $25,805.97', additional_kwargs={}, response_metadata={})], 'output': 'The average billing amount based on patient medical conditions is as follows:\\n\\n- Arthritis: $25,497.33\\n- Asthma: $25,635.25\\n- Cancer: $25,161.79\\n- Diabetes: $25,638.41\\n- Hypertension: $25,497.10\\n- Obesity: $25,805.97'}\n",
      "\n"
     ]
    }
   ],
   "source": [
    "question1 = \"what is the recommend treatment for diabetes?\"\n",
    "question2 = \"what is the average billing amount?\"\n",
    "question3 = \"How many patients are there with cancer?\"\n",
    "question4 = \"Can you tell how many admissions by month?\"\n",
    "question5 = \"Can you tell a prediction based on the condition what is the average  billing amount?\"\n",
    "questions = [question1, question2, question3, question4, question5]\n",
    "\n",
    "for question in questions:\n",
    "    response = agent(question)\n",
    "    print(f\"Question: {question}\\nResponse: {response}\\n\")\n",
    "\n"
   ]
  },
  {
   "cell_type": "markdown",
   "metadata": {},
   "source": [
    "### Multimodal Interaction\n",
    "Text/Voice input and output"
   ]
  },
  {
   "cell_type": "code",
   "execution_count": 58,
   "metadata": {},
   "outputs": [
    {
     "data": {
      "text/html": [
       "\n",
       "                <audio  controls=\"controls\" autoplay=\"autoplay\">\n",
       "                    <source src=\"data:audio/mpeg;base64,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\" type=\"audio/mpeg\" />\n",
       "                    Your browser does not support the audio element.\n",
       "                </audio>\n",
       "              "
      ],
      "text/plain": [
       "<IPython.lib.display.Audio object>"
      ]
     },
     "execution_count": 58,
     "metadata": {},
     "output_type": "execute_result"
    }
   ],
   "source": [
    "import os\n",
    "from openai import OpenAI\n",
    "from dotenv import load_dotenv\n",
    "from IPython.display import Audio\n",
    "\n",
    "# Load environment variables\n",
    "load_dotenv()\n",
    "\n",
    "def text_to_speech(text: str, voice: str = \"alloy\") -> bytes:\n",
    "    \"\"\"\n",
    "    Convert text to speech using OpenAI's TTS API\n",
    "    \n",
    "    Args:\n",
    "        text (str): The text to convert to speech\n",
    "        voice (str): The voice to use (alloy, echo, fable, onyx, nova, shimmer)\n",
    "    \n",
    "    Returns:\n",
    "        bytes: Audio content in MP3 format\n",
    "    \"\"\"\n",
    "    client = OpenAI(api_key=os.getenv(\"OPENAI_API_KEY\"))\n",
    "    \n",
    "    response = client.audio.speech.create(\n",
    "        model=\"tts-1\",\n",
    "        voice=voice,\n",
    "        input=text\n",
    "    )\n",
    "    \n",
    "    return response.content\n",
    "\n",
    "# Convert text to speech\n",
    "text = \"The recommended treatment for diabetes includes a combination of lifestyle changes, medication, and regular monitoring of blood sugar levels.\"\n",
    "audio = text_to_speech(text)\n",
    "\n",
    "# Save the audio file\n",
    "audio_file = \"output.mp3\"\n",
    "with open(audio_file, \"wb\") as f:\n",
    "    f.write(audio)\n",
    "\n",
    "# Play the audio file (if in Jupyter notebook)\n",
    "Audio(audio_file, autoplay=True)"
   ]
  },
  {
   "cell_type": "markdown",
   "metadata": {},
   "source": [
    "#export to python file and then import to streamlit "
   ]
  }
 ],
 "metadata": {
  "kernelspec": {
   "display_name": "langchain_env",
   "language": "python",
   "name": "python3"
  },
  "language_info": {
   "codemirror_mode": {
    "name": "ipython",
    "version": 3
   },
   "file_extension": ".py",
   "mimetype": "text/x-python",
   "name": "python",
   "nbconvert_exporter": "python",
   "pygments_lexer": "ipython3",
   "version": "3.11.11"
  }
 },
 "nbformat": 4,
 "nbformat_minor": 2
}
